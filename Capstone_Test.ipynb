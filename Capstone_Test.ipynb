{
 "cells": [
  {
   "cell_type": "code",
   "execution_count": null,
   "metadata": {
    "ExecuteTime": {
     "start_time": "2019-11-15T18:34:25.160Z"
    }
   },
   "outputs": [],
   "source": [
    "import sys\n",
    "# !{sys.executable} -m pip install pynput\n",
    "import numpy as np\n",
    "import time\n",
    "from pynput.keyboard import Key, Controller\n",
    "import spidev \n",
    "\n",
    "import RPi.GPIO as GPIO\n",
    "GPIO.setmode(GPIO.BCM)\n",
    "\n",
    "bblue = 23\n",
    "byel = 24\n",
    "bgreen = 25\n",
    "bred = 26\n",
    "\n",
    "spi = spidev.SpiDev()\n",
    "# (0,0 or 1) depending on adc pin, 0 in this case\n",
    "spi.open(0, 0)\n",
    "\n",
    "GPIO.setup(bblue, GPIO.IN, pull_up_down = GPIO.PUD_DOWN)\n",
    "GPIO.setup(byel, GPIO.IN, pull_up_down = GPIO.PUD_DOWN)\n",
    "GPIO.setup(bgreen, GPIO.IN, pull_up_down = GPIO.PUD_DOWN)\n",
    "GPIO.setup(bred, GPIO.IN, pull_up_down = GPIO.PUD_DOWN)\n",
    "\n",
    "keyboard = Controller()\n",
    "\n",
    "while True:\n",
    "    if GPIO.input(bblue):    \n",
    "        keyboard.press(Key.down)\n",
    "        time.sleep(.1)\n",
    "        keyboard.release(Key.down)    \n",
    "        print(\"blue\")\n",
    "    if GPIO.input(byel):    \n",
    "        keyboard.press(Key.right)\n",
    "        time.sleep(.1)\n",
    "        keyboard.release(Key.right)\n",
    "    if GPIO.input(bgreen):    \n",
    "        keyboard.press(Key.up)\n",
    "        time.sleep(.1)\n",
    "        keyboard.release(Key.up)\n",
    "    if GPIO.input(bred):    \n",
    "        keyboard.press(Key.left)\n",
    "        time.sleep(.1)\n",
    "        keyboard.release(Key.left)\n",
    "\n",
    "    \n",
    "# from pynput.keyboard import Key, Controller\n"
   ]
  },
  {
   "cell_type": "code",
   "execution_count": null,
   "metadata": {
    "ExecuteTime": {
     "start_time": "2019-11-15T18:34:27.904Z"
    }
   },
   "outputs": [],
   "source": [
    "# Old buzzer stuff\n",
    "import RPi.GPIO as GPIO\n",
    "import time\n",
    "import numpy as np\n",
    "import pigpio\n",
    "\n",
    "pi = pigpio.pi(port = 8887)\n",
    "\n",
    "buzPin = 19\n",
    "GPIO.setup(buzPin, GPIO.OUT) \n",
    "\n",
    "\n",
    "if bblue, bgreen == True:\n",
    "    pi.hardware_PWM(buzPin, 261.63, int(.5e6))\n",
    "    time.sleep(.1)\n",
    "    pi.hardware_PWM(buzPin, 0, int(.5e6))\n",
    "    \n",
    "if bred, byellow == True:\n",
    "    pi.hardware_PWM(buzPin, 349.23, int(.5e6))\n",
    "    time.sleep(.1)\n",
    "    pi.hardware_PWM(buzPin, 0, int(.5e6))"
   ]
  },
  {
   "cell_type": "code",
   "execution_count": 1,
   "metadata": {
    "ExecuteTime": {
     "end_time": "2019-11-18T18:22:10.226648Z",
     "start_time": "2019-11-18T18:22:07.116484Z"
    },
    "code_folding": []
   },
   "outputs": [
    {
     "name": "stdout",
     "output_type": "stream",
     "text": [
      "hello world\n"
     ]
    },
    {
     "ename": "NameError",
     "evalue": "name 'pwm_instances' is not defined",
     "output_type": "error",
     "traceback": [
      "\u001b[0;31m--------------------------------------------------------------------------\u001b[0m",
      "\u001b[0;31mNameError\u001b[0m                                Traceback (most recent call last)",
      "\u001b[0;32m<ipython-input-1-083e2c3caa1d>\u001b[0m in \u001b[0;36m<module>\u001b[0;34m\u001b[0m\n\u001b[1;32m     61\u001b[0m \u001b[0;34m\u001b[0m\u001b[0m\n\u001b[1;32m     62\u001b[0m \u001b[0;34m\u001b[0m\u001b[0m\n\u001b[0;32m---> 63\u001b[0;31m \u001b[0mmain\u001b[0m\u001b[0;34m(\u001b[0m\u001b[0;34m)\u001b[0m\u001b[0;34m\u001b[0m\u001b[0m\n\u001b[0m\u001b[1;32m     64\u001b[0m \u001b[0mprint\u001b[0m\u001b[0;34m(\u001b[0m\u001b[0;34m\"test\"\u001b[0m\u001b[0;34m)\u001b[0m\u001b[0;34m\u001b[0m\u001b[0m\n",
      "\u001b[0;32m<ipython-input-1-083e2c3caa1d>\u001b[0m in \u001b[0;36mmain\u001b[0;34m()\u001b[0m\n\u001b[1;32m     55\u001b[0m \u001b[0;34m\u001b[0m\u001b[0m\n\u001b[1;32m     56\u001b[0m     \u001b[0;32mfinally\u001b[0m\u001b[0;34m:\u001b[0m\u001b[0;34m\u001b[0m\u001b[0m\n\u001b[0;32m---> 57\u001b[0;31m         \u001b[0;32mfor\u001b[0m \u001b[0mp\u001b[0m \u001b[0;32min\u001b[0m \u001b[0mpwm_instances\u001b[0m\u001b[0;34m:\u001b[0m\u001b[0;34m\u001b[0m\u001b[0m\n\u001b[0m\u001b[1;32m     58\u001b[0m             \u001b[0mp\u001b[0m\u001b[0;34m.\u001b[0m\u001b[0mstop\u001b[0m\u001b[0;34m(\u001b[0m\u001b[0;34m)\u001b[0m\u001b[0;34m\u001b[0m\u001b[0m\n\u001b[1;32m     59\u001b[0m         \u001b[0mspi\u001b[0m\u001b[0;34m.\u001b[0m\u001b[0mclose\u001b[0m\u001b[0;34m(\u001b[0m\u001b[0;34m)\u001b[0m\u001b[0;34m\u001b[0m\u001b[0m\n",
      "\u001b[0;31mNameError\u001b[0m: name 'pwm_instances' is not defined"
     ]
    }
   ],
   "source": [
    "import math\n",
    "import RPi.GPIO as GPIO\n",
    "import spidev\n",
    "import time\n",
    "import adcUtil  as adc\n",
    "\n",
    " \n",
    "# Open SPI bus\n",
    "spi = spidev.SpiDev()\n",
    "spi.open(0, 0)\n",
    " \n",
    "# Define sensor channels (3 to 7 are unused)\n",
    "mcp3008_switch_channel = 1\n",
    "mcp3008_x_voltage_channel = 0\n",
    "mcp3008_y_voltage_channel = 1\n",
    " \n",
    " \n",
    "def read_spi_data_channel(channel):\n",
    "    adc = spi.xfer2([1, (8+channel) << 4, 0])\n",
    "    return ((adc[1] & 3) << 8) + adc[2]\n",
    " \n",
    " \n",
    "def convert_coordinates_to_angle(x, y, center_x_pos, center_y_pos): \n",
    "    dx = x - center_x_pos\n",
    "    dy = y - center_y_pos\n",
    "    rads = math.atan2(-dy, dx)\n",
    "    rads %= 2 * math.pi\n",
    "    return math.degrees(rads)\n",
    " \n",
    "\n",
    " \n",
    " \n",
    "def main():\n",
    " \n",
    "    print(\"hello world\")\n",
    "    # Center positions when joystick is at rest\n",
    "    center_x_pos = 530\n",
    "    center_y_pos = 504\n",
    "\n",
    "    try:\n",
    "        while True:\n",
    " \n",
    "            # Read the joystick position data\n",
    "            x_pos = read_spi_data_channel(mcp3008_x_voltage_channel)\n",
    "            y_pos = read_spi_data_channel(mcp3008_y_voltage_channel)\n",
    " \n",
    "\n",
    "            angle =0\n",
    "            if x_pos is not 0 or y_pos is not 0:\n",
    "                print(\"Position : ({},{})  --  Angle : {}\".format(x_pos, y_pos, round(angle, 2)))\n",
    "            time.sleep(.7)\n",
    " \n",
    "    except KeyboardInterrupt:\n",
    "        pass\n",
    " \n",
    "    finally:\n",
    "        for p in pwm_instances:\n",
    "            p.stop()\n",
    "        spi.close()\n",
    "        GPIO.cleanup()\n",
    " \n",
    " \n",
    "main()\n",
    "print(\"test\")"
   ]
  },
  {
   "cell_type": "code",
   "execution_count": 5,
   "metadata": {
    "ExecuteTime": {
     "end_time": "2019-11-18T18:30:32.736225Z",
     "start_time": "2019-11-18T18:30:22.652158Z"
    }
   },
   "outputs": [
    {
     "name": "stdout",
     "output_type": "stream",
     "text": [
      "Maxes: (1.0806451612903225,1.0838709677419354)\n",
      "Mins: (0,0)\n"
     ]
    }
   ],
   "source": [
    "import time\n",
    "import adcUtil  as adc\n",
    "import math\n",
    "\n",
    "\n",
    "XMAX =1.0806451612903225\n",
    "YMAX =1.0838709677419354\n",
    "YMIN = 0\n",
    "XMIN = 0\n",
    "\n",
    "to = time.time();\n",
    "xmax = 0\n",
    "ymax= 0\n",
    "xmin =0\n",
    "ymin =0\n",
    "while time.time()<(to+10):\n",
    "    xpos = adc.readADC(channel=0)\n",
    "    ypos = adc.readADC(channel=1)\n",
    "    xmax = max(xmax,xpos)\n",
    "    ymax = max(ymax,ypos)\n",
    "    xmin = min(xmin,xpos)\n",
    "    ymin = min(ymin,ypos)\n",
    "    #print(\"Position : ({},{})\".format(xpos, ypos))\n",
    "    time.sleep(.01)\n",
    "    \n",
    "print(\"Maxes: ({},{})\".format(xmax, ymax))\n",
    "print(\"Mins: ({},{})\".format(xmin, ymin))"
   ]
  }
 ],
 "metadata": {
  "colab": {
   "collapsed_sections": [],
   "name": "Capstone Test",
   "provenance": []
  },
  "kernelspec": {
   "display_name": "Python 3",
   "language": "python",
   "name": "python3"
  },
  "varInspector": {
   "cols": {
    "lenName": 16,
    "lenType": 16,
    "lenVar": 40
   },
   "kernels_config": {
    "python": {
     "delete_cmd_postfix": "",
     "delete_cmd_prefix": "del ",
     "library": "var_list.py",
     "varRefreshCmd": "print(var_dic_list())"
    },
    "r": {
     "delete_cmd_postfix": ") ",
     "delete_cmd_prefix": "rm(",
     "library": "var_list.r",
     "varRefreshCmd": "cat(var_dic_list()) "
    }
   },
   "types_to_exclude": [
    "module",
    "function",
    "builtin_function_or_method",
    "instance",
    "_Feature"
   ],
   "window_display": false
  }
 },
 "nbformat": 4,
 "nbformat_minor": 1
}
