{
 "cells": [
  {
   "cell_type": "markdown",
   "metadata": {},
   "source": [
    "<img src=\"https://3a2vzv37nkuw3esf6a3u2t7s-wpengine.netdna-ssl.com/webcentral/wp-content/uploads/sites/267/2019/02/horizontaldarkbackground.jpg\" width=\"55%\" align=\"left\"> \n",
    "<br><br><br><br><br>\n",
    "<font size=3 color='#08088A'>\n",
    "<b>CSCI250 Python Computing: Building a Sensor System</b> <br><br>\n",
    "Capstone final report\n",
    "</font>\n",
    "<hr style=\"height:5px\" width=\"55%\" align=\"left\">"
   ]
  },
  {
   "cell_type": "markdown",
   "metadata": {},
   "source": [
    "# Potato Controller\n",
    "\n",
    "Insert one or more pictures of your project. \n",
    "You can do this by clicking **Edit** in the menu bar, then **Insert Image**."
   ]
  },
  {
   "cell_type": "markdown",
   "metadata": {},
   "source": [
    "# Group \n",
    "\n",
    "List all members and indicate specific project responsibilities:\n",
    "\n",
    "* **Anthony Logan**  - Main coder.\n",
    "\n",
    "    Created code that took inputs from joystick and applied them to keyeboard presses (WSAD). Created code that allows push buttons to have function in game. Assisted in hardware assembly. \n",
    "\n",
    "\n",
    "* **Frankie Austin** - Main Hardware\n",
    "\n",
    "    Designed and 3D printed a case for the raspberry pi with cutouts for sensors. Assembled sensors and raspberry pi to form the final design.\n",
    "    \n",
    "    \n",
    "*  **John Woolf** - Musician\n",
    "\n",
    "    Created a program that can read notes and convert them to individual frequencies. Used 4 buzzers to play music such as the Wii themesong. \n",
    "    \n",
    "    \n",
    "* **Matthew Barbattini** - Secretary and Support\n",
    "\n",
    "    Completed updates, assisted in code development, and wrote final report."
   ]
  },
  {
   "cell_type": "markdown",
   "metadata": {},
   "source": [
    "# Description\n",
    "\n",
    "Our team has created a game controller akin to classic nintendo controllers. Our controller uses 2 joysticks and 4 push buttons that act as a D-Pad . A speaker is built into the controller using 4 buzzers that can play music similar to the game. The system (excluding the speakers) sits inside a 3D printed case designed specifically for _ergonomic function_."
   ]
  },
  {
   "cell_type": "markdown",
   "metadata": {},
   "source": [
    "# Hardware\n",
    "\n",
    "- 2x Joystick\n",
    "- 4x Buzzers\n",
    "- 4x Push Buttons\n",
    "- 2x ADC\n"
   ]
  },
  {
   "cell_type": "markdown",
   "metadata": {},
   "source": [
    "# Operation\n",
    "\n",
    "The left joystick controls movement like using the WASD keys on a computer. The push buttons act as a D-Pad on a controller and have specific functions for the game being played. We wanted the right control stick to controll camera for more advanced games. But unfortunately, we were unable to control both joysticks at once due to bugs with multiple ADC's, so only a single functions at this time. "
   ]
  },
  {
   "cell_type": "markdown",
   "metadata": {},
   "source": [
    "# Data\n",
    "\n",
    "As stated in the capstone guidelines notebook, your project must have 4 data components:\n",
    "\n",
    "1. **Collect** data\n",
    "2. **Process** data\n",
    "3. **Display** data\n",
    "4. **Interpret** data\n",
    "\n",
    "Include a description of the data you collected, what processing you did, graphs/plots/visuals created by your code, and your interpretation/analysis of the data. \n",
    "\n",
    "There is no need to include raw data unless it helps your explanation."
   ]
  },
  {
   "cell_type": "markdown",
   "metadata": {},
   "source": [
    "* The joystick has two connections for vertical and horizontal position. These ouputs are sent through the ADC and give numbers between 0 and 1023. First, we tested what position on the joystick corresponded to some horizontal and vertical values, and then created a graph of this coordinate system. We converted these position outputs into polar coordinates, and interpreted the angles into ranges that correspond to the WASD keys. We made sure to include ranges where both keys are pressed at the same time, such as wanting to move northeast instead of just north. We wanted to have no movement when the joystick is idle, so we did not allow for the continuous reading to occur if the radius of our coordinate system was less than some minimum value."
   ]
  },
  {
   "cell_type": "code",
   "execution_count": null,
   "metadata": {},
   "outputs": [],
   "source": [
    "# Example graph of joystick mapping\n",
    "import math\n",
    "import time\n",
    "import numpy as np\n",
    "import matplotlib.pyplot as plt\n",
    "xs = np.linspace(0, 1023, 1023)\n",
    "ys = 511.5 * np.ones(1023, dtype=float)\n",
    "\n",
    "graph, polar = plt.subplots()\n",
    "\n",
    "plt.axis([0, 1023, 0, 1023])\n",
    "plt.xlabel('x Position')\n",
    "plt.ylabel('y Position')\n",
    "\n",
    "plt.title(\"Diagram of Joystick Conversion\", fontsize=20,loc='center', pad=30)\n",
    "plt.polar(511.5)\n",
    "plt.plot(xs, ys, 'b')"
   ]
  },
  {
   "cell_type": "markdown",
   "metadata": {},
   "source": [
    "# Wiring\n",
    "\n",
    "* The controller's wiring is an amalgamation of each sensors respective ports. The buttons, joysticks and the buzzer are all connected with their own power source and ground. Both joysticks are also connected to a respective ADC since one joystick requires 2 channels in order to read every direction. Both ADC's are connected to the same breadboard, and each of the wires extend from the controller to the breadboard as well. In order to maximize wiring visibility and efficiency, two power and ground strips were made on each side of the board. This streamlined the way by which we wired the controller while also keeping the board neat for the video and the pictures. \n",
    "\n",
    "# Joysticks:  \n",
    "\n",
    "* The general convention that we made in order to wire the joysticks is: \"Green-Hortizontal, Yellow-Vertical\". Each horizontal wire was connected to channel 0 of the ADC and each vertical wire was connected to channel 1 of the ADC. Since two ADC's were needed in order to read both inputs, one ADC was connected with CE0 and the other with CE1. \n",
    "* Each joystick had a different purpose. Our right joystick was designated to be in charge of all movement made by the player. Our left joystick was designated to the control the camera the player was using. \n",
    "\n",
    "# Push Buttons:\n",
    "\n",
    "* Each button was connected to GPIO Pins 19-22. Each of them were grounded via a grounding strip on the breadboard. Each button had their own purpose as well. In the reference frame of the game 'Minecraft', our green button was our \"strike\" button, which was in charge of hitting blocks with whichever weapon was equipped. The blue button was our \"set\" button that would set blocks on the ground. Our yellow button is our \"jump\" button which made the avatar jumped when pressed. The red button was our \"selector\" button which was made to rotate through the player's inventory. Each button can be held in order to perform the action repeatedly. \n",
    " \n",
    "# Buzzers: \n",
    "* Our buzzer is connected to GPIO Pin 13 in order to access the optimal PWM for our action response system. Upon pressing a button, the buzzer will emit a note of a different frequency depending on the button that is pressed, which is akin to auditory feedback the player should get when playing a game and giving inputs to the avatar via their controller. \n",
    "* Additionally, we have a 4 speaker setup that interperts a file format designed for harmony. This uses 4 speakers and references a file of your choosing, and will serenade you while you frag in minecraft."
   ]
  },
  {
   "cell_type": "markdown",
   "metadata": {},
   "source": [
    "# Code\n",
    "\n",
    "Include all the code that makes your project run. It can be in a single code cell or split between many cells, whatever you prefer. Add documentation to explain what different portions of your code do."
   ]
  },
  {
   "cell_type": "code",
   "execution_count": 4,
   "metadata": {},
   "outputs": [
    {
     "name": "stderr",
     "output_type": "stream",
     "text": [
      "<ipython-input-4-1ee364bc9134>:15: UserWarning: Trying to create polar plot on an axis that does not have a polar projection.\n",
      "  plt.polar(511.5)\n",
      "<ipython-input-4-1ee364bc9134>:15: UserWarning: Requested projection is different from current axis projection, creating new axis with requested projection.\n",
      "  plt.polar(511.5)\n"
     ]
    },
    {
     "data": {
      "text/plain": [
       "[<matplotlib.lines.Line2D at 0x7fdee56cd790>]"
      ]
     },
     "execution_count": 4,
     "metadata": {},
     "output_type": "execute_result"
    },
    {
     "data": {
      "image/png": "[encoded data removed]",
      "text/plain": [
       "<Figure size 432x288 with 2 Axes>"
      ]
     },
     "metadata": {
      "needs_background": "light"
     },
     "output_type": "display_data"
    }
   ],
   "source": [
    "# Example graph of joystick mapping\n",
    "import math\n",
    "import time\n",
    "import numpy as np\n",
    "import matplotlib.pyplot as plt\n",
    "xs = np.linspace(0, 1023, 1023)\n",
    "ys = 511.5 * np.ones(1023, dtype=float)\n",
    "\n",
    "graph, polar = plt.subplots()\n",
    "\n",
    "plt.axis([0, 1023, 0, 1023])\n",
    "plt.xlabel('x Position')\n",
    "plt.ylabel('y Position')\n",
    "\n",
    "plt.polar(511.5)\n",
    "plt.plot(xs, ys, 'b')"
   ]
  },
  {
   "cell_type": "markdown",
   "metadata": {},
   "source": [
    "## Helper Functions for inside the control loop"
   ]
  },
  {
   "cell_type": "code",
   "execution_count": null,
   "metadata": {},
   "outputs": [],
   "source": [
    "import adcUtil  as adc\n",
    "import math\n",
    "import RPi.GPIO as GPIO\n",
    "import adcUtil as adc\n",
    "import numpy as np\n",
    "import pigpio\n",
    "import time\n",
    "\n",
    "\n",
    "# Reads the cartesian value of the left stick from ADC CE0\n",
    "def getStickL():\n",
    "    xpos = adc.baseADC0(channel=1)\n",
    "    ypos = adc.baseADC0(channel=0)\n",
    "    # -511.5 to center output on 0, from -511 to 511\n",
    "    return (xpos-511.5), (ypos-511.5)\n",
    "\n",
    "# Reads the cartesian value of the right stick from ADC CE1\n",
    "def getStickR():\n",
    "    xpos = adc.baseADC1(channel=1)\n",
    "    ypos = adc.baseADC1(channel=0)\n",
    "    return (xpos-511.5), (ypos-511.5)\n",
    "\n",
    "# With a radius and theta value, press the right key(s)\n",
    "def getStickKey(r,theta):\n",
    "    \n",
    "    # If the analog stick is near the middle/neutral position, do nothing\n",
    "    if (r < 100): \n",
    "        releaseAll();\n",
    "        return;\n",
    "    \n",
    "    # W D\n",
    "    if (theta > 30 and theta < 60):\n",
    "        releaseAll();\n",
    "        keyboard.press('w')\n",
    "        keyboard.press('d')   \n",
    "        \n",
    "    # W\n",
    "    elif (theta > 60 and theta < 120):\n",
    "        releaseAll();        \n",
    "        keyboard.press('w') \n",
    "        \n",
    "    # W A\n",
    "    elif (theta > 120 and theta < 150):\n",
    "        releaseAll();\n",
    "        keyboard.press('w')\n",
    "        keyboard.press('a') \n",
    "        \n",
    "    # A\n",
    "    elif (theta > 150 and theta < 210):\n",
    "        releaseAll();        \n",
    "        keyboard.press('a')  \n",
    "        \n",
    "    # A S\n",
    "    elif (theta > 210 and theta < 240):\n",
    "        releaseAll();\n",
    "        keyboard.press('a')\n",
    "        keyboard.press('s') \n",
    "        \n",
    "    # S\n",
    "    elif (theta > 240 and theta < 300):\n",
    "        releaseAll();        \n",
    "        keyboard.press('s')\n",
    "        \n",
    "    # S D\n",
    "    elif (theta > 300 and theta < 330):\n",
    "        releaseAll();\n",
    "        keyboard.press('s')\n",
    "        keyboard.press('d') \n",
    "        \n",
    "    # D\n",
    "    elif (theta > 330 or (theta) < 30):\n",
    "        releaseAll();        \n",
    "        keyboard.press('d') \n",
    "    else:\n",
    "        return;    \n",
    "\n",
    "# Catch all function to release every key to simulate holding down keys\n",
    "def releaseAll():\n",
    "    keyboard.release('w')\n",
    "    keyboard.release('a')\n",
    "    keyboard.release('s')\n",
    "    keyboard.release('d')\n",
    "    \n",
    "# Return the theta when given cartesian x y\n",
    "def angle(dx, dy):    \n",
    "    rads = math.atan2(dy, dx)\n",
    "    rads %= 2 * math.pi\n",
    "    return math.degrees(rads)\n",
    "\n",
    "# Return radius when given cartesian x y\n",
    "def radi(dx, dy):\n",
    "    r = math.sqrt(dx ** 2 + dy ** 2)\n",
    "    return r\n",
    "\n",
    "# Beeps a unique note per button when it's pressed\n",
    "buzPin = 13\n",
    "def beep(button):        \n",
    "    # Sleep length, small value for short beep\n",
    "    d = .05\n",
    "        \n",
    "    if button == 1:\n",
    "        pi.hardware_PWM(buzPin, 261, int(.5e6))\n",
    "        time.sleep(d)\n",
    "        pi.hardware_PWM(buzPin, 0, int(.5e6))\n",
    "            \n",
    "    if button == 2:\n",
    "        pi.hardware_PWM(buzPin, 291, int(.5e6))\n",
    "        time.sleep(d)\n",
    "        pi.hardware_PWM(buzPin, 0, int(.5e6))\n",
    "        \n",
    "    if button == 3:\n",
    "        pi.hardware_PWM(buzPin, 331, int(.5e6))\n",
    "        time.sleep(d)\n",
    "        pi.hardware_PWM(buzPin, 0, int(.5e6))\n",
    "            \n",
    "    if button == 4:\n",
    "        pi.hardware_PWM(buzPin, 349, int(.5e6))\n",
    "        time.sleep(d)\n",
    "        pi.hardware_PWM(buzPin, 0, int(.5e6))"
   ]
  },
  {
   "cell_type": "markdown",
   "metadata": {},
   "source": [
    "## Control Loop (where the magic happens)"
   ]
  },
  {
   "cell_type": "code",
   "execution_count": null,
   "metadata": {},
   "outputs": [],
   "source": [
    "import sys\n",
    "# !{sys.executable} -m pip install pynput\n",
    "import numpy as np\n",
    "import time\n",
    "from pynput.keyboard import Key, Controller\n",
    "from pynput.mouse import Button, Controller as c\n",
    "import spidev \n",
    "import RPi.GPIO as GPIO\n",
    "\n",
    "# Button/buzzer pins\n",
    "bright = 19\n",
    "bup = 20\n",
    "bleft = 21\n",
    "bdown = 22\n",
    "buzPin = 13\n",
    "\n",
    "pi = pigpio.pi(port = 8887)\n",
    "\n",
    "# Sets button and buzzer pins\n",
    "GPIO.setmode(GPIO.BCM)\n",
    "GPIO.setup(buzPin, GPIO.OUT) \n",
    "GPIO.setup(bright, GPIO.IN, pull_up_down = GPIO.PUD_DOWN)\n",
    "GPIO.setup(bup, GPIO.IN, pull_up_down = GPIO.PUD_DOWN)\n",
    "GPIO.setup(bleft, GPIO.IN, pull_up_down = GPIO.PUD_DOWN)\n",
    "GPIO.setup(bdown, GPIO.IN, pull_up_down = GPIO.PUD_DOWN)\n",
    "\n",
    "# Create the keyboard and mouse objects\n",
    "keyboard = Controller()\n",
    "mouse = c()\n",
    "\n",
    "# The button layout on the controller, when reading top to bottom you will have\n",
    "# Up left down right (clockwise)\n",
    "# ^ > v <\n",
    "while True:    \n",
    "    # Press the up arrow\n",
    "    if GPIO.input(bup):    \n",
    "        beep(1)\n",
    "        keyboard.press(Key.up)\n",
    "        time.sleep(.1)\n",
    "        keyboard.release(Key.up)\n",
    "        \n",
    "    # Right click on the mouse\n",
    "    if GPIO.input(bright):    \n",
    "        beep(2)\n",
    "        mouse.press(Button.right)\n",
    "        time.sleep(.1)\n",
    "        mouse.release(Button.right)\n",
    "\n",
    "    # Left click on the mouse\n",
    "    if GPIO.input(bdown):\n",
    "        beep(3)\n",
    "        mouse.press(Button.left)\n",
    "        time.sleep(.1)\n",
    "        mouse.release(Button.left)\n",
    "\n",
    "    # Press spacebar (usually bound to jump)\n",
    "    if GPIO.input(bleft):\n",
    "        beep(4)\n",
    "        keyboard.press(Key.space)\n",
    "        time.sleep(.1)       \n",
    "        keyboard.release(Key.space)\n",
    "    \n",
    "    # Left stick function when we almost got it working\n",
    "    # x_posL, y_posL = getStickL()\n",
    "    # Get Cartesian for right stick\n",
    "    x_posR, y_posR = getStickR()\n",
    "    # Convert to radius for right stick\n",
    "    rR = radi(x_posR, y_posR)\n",
    "    # Convert to theta for right stick\n",
    "    thetaR = angle(x_posR, y_posR)\n",
    "    # Press the wasd key according to r and theta\n",
    "    getStickKey(rR, thetaR)\n",
    "    time.sleep(.1)"
   ]
  },
  {
   "cell_type": "markdown",
   "metadata": {},
   "source": [
    "## Helper testing function (prints ADC/analog stick reading)"
   ]
  },
  {
   "cell_type": "code",
   "execution_count": null,
   "metadata": {},
   "outputs": [],
   "source": [
    "# This is a helper block only used in testing, helped us print out the \n",
    "# analog stick values and see if we had them properly hooked up.\n",
    "# This also aided in the cause for determining tolerances and axis \n",
    "# for the coordinate system.\n",
    "to = time.time();\n",
    "\n",
    "while time.time()<(to+20) or False:\n",
    "    #r, theta = getStickKey()\n",
    "    # x_posL, y_posL = getStickL()\n",
    "    x_posR, y_posR = getStickR()\n",
    "    #print(\"Polar Left: ({0:.0f},{1:.0f})\".format(radi(x_posL, y_posL),angle(x_posL, y_posL)))\n",
    "    print(\"Polar Right: ({0:.0f},{1:.0f})\".format(radi(x_posR, y_posR),angle(x_posR, y_posR)))\n",
    "\n",
    "    # print(\"Points Left: ({0:.0f},{1:.0f})\".format(x_posL,y_posL))\n",
    "    # print(\"Points Right: ({0:.0f},{1:.0f})\".format(x_posR,y_posR))\n",
    "\n",
    "    #print(x_pos, y_pos)\n",
    "\n",
    "    time.sleep(.8)\n",
    "    \n",
    "#r, theta = getStickKey()\n"
   ]
  },
  {
   "cell_type": "code",
   "execution_count": null,
   "metadata": {},
   "outputs": [],
   "source": [
    "# Music player\n"
   ]
  },
  {
   "cell_type": "markdown",
   "metadata": {},
   "source": [
    "# Credits\n",
    "\n",
    "Include references to all code you used in your project. If it's a library, provide name, version and download link."
   ]
  }
 ],
 "metadata": {
  "kernelspec": {
   "display_name": "Python 3",
   "language": "python",
   "name": "python3"
  },
  "language_info": {
   "codemirror_mode": {
    "name": "ipython",
    "version": 3
   },
   "file_extension": ".py",
   "mimetype": "text/x-python",
   "name": "python",
   "nbconvert_exporter": "python",
   "pygments_lexer": "ipython3",
   "version": "3.8.0"
  },
  "varInspector": {
   "cols": {
    "lenName": 16,
    "lenType": 16,
    "lenVar": 40
   },
   "kernels_config": {
    "python": {
     "delete_cmd_postfix": "",
     "delete_cmd_prefix": "del ",
     "library": "var_list.py",
     "varRefreshCmd": "print(var_dic_list())"
    },
    "r": {
     "delete_cmd_postfix": ") ",
     "delete_cmd_prefix": "rm(",
     "library": "var_list.r",
     "varRefreshCmd": "cat(var_dic_list()) "
    }
   },
   "types_to_exclude": [
    "module",
    "function",
    "builtin_function_or_method",
    "instance",
    "_Feature"
   ],
   "window_display": false
  }
 },
 "nbformat": 4,
 "nbformat_minor": 2
}
