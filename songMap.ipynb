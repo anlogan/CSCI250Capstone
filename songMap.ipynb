{
 "cells": [
  {
   "cell_type": "code",
   "execution_count": 1,
   "metadata": {},
   "outputs": [
    {
     "ename": "FileNotFoundError",
     "evalue": "[Errno 2] No such file or directory: 'mii.txt'",
     "output_type": "error",
     "traceback": [
      "\u001b[1;31m---------------------------------------------------------------------------\u001b[0m",
      "\u001b[1;31mFileNotFoundError\u001b[0m                         Traceback (most recent call last)",
      "\u001b[1;32m<ipython-input-1-18becd97b3ec>\u001b[0m in \u001b[0;36m<module>\u001b[1;34m\u001b[0m\n\u001b[0;32m     12\u001b[0m \u001b[0mbuzzerAdd\u001b[0m \u001b[1;33m=\u001b[0m \u001b[0mnp\u001b[0m\u001b[1;33m.\u001b[0m\u001b[0marray\u001b[0m\u001b[1;33m(\u001b[0m\u001b[1;33m[\u001b[0m\u001b[1;33m]\u001b[0m\u001b[1;33m)\u001b[0m\u001b[1;33m\u001b[0m\u001b[1;33m\u001b[0m\u001b[0m\n\u001b[0;32m     13\u001b[0m \u001b[1;33m\u001b[0m\u001b[0m\n\u001b[1;32m---> 14\u001b[1;33m \u001b[1;32mwith\u001b[0m \u001b[0mopen\u001b[0m\u001b[1;33m(\u001b[0m\u001b[0mfile\u001b[0m\u001b[1;33m,\u001b[0m \u001b[1;34m'r'\u001b[0m\u001b[1;33m)\u001b[0m \u001b[1;32mas\u001b[0m \u001b[0mf\u001b[0m\u001b[1;33m:\u001b[0m\u001b[1;33m\u001b[0m\u001b[1;33m\u001b[0m\u001b[0m\n\u001b[0m\u001b[0;32m     15\u001b[0m     \u001b[0msongData\u001b[0m \u001b[1;33m=\u001b[0m \u001b[0mf\u001b[0m\u001b[1;33m.\u001b[0m\u001b[0mread\u001b[0m\u001b[1;33m(\u001b[0m\u001b[1;33m)\u001b[0m\u001b[1;33m\u001b[0m\u001b[1;33m\u001b[0m\u001b[0m\n\u001b[0;32m     16\u001b[0m \u001b[1;33m\u001b[0m\u001b[0m\n",
      "\u001b[1;31mFileNotFoundError\u001b[0m: [Errno 2] No such file or directory: 'mii.txt'"
     ]
    }
   ],
   "source": [
    "import numpy as np\n",
    "import frequency\n",
    "\n",
    "file = \"mii.txt\"\n",
    "buzzerCount = 4\n",
    "noteSpeed = 0.1\n",
    "\n",
    "buzzer = np.array([[[0,0]],\n",
    "                   [[0,0]],\n",
    "                   [[0,0]],\n",
    "                   [[0,0]]])\n",
    "buzzerAdd = np.array([])\n",
    "    \n",
    "with open(file, 'r') as f:\n",
    "    songData = f.read()\n",
    "    \n",
    "key = 0\n",
    "newLine = 0\n",
    "buzzNum = 0\n",
    "for i in songData:\n",
    "    if(i.isdigit()):\n",
    "        key = i\n",
    "        newLine = 0\n",
    "        pass\n",
    "    elif(i == '|'):\n",
    "        pass\n",
    "    elif(i == '\\n'):\n",
    "        newLine += 1\n",
    "        buzzNum += 1\n",
    "        pass\n",
    "    else:\n",
    "        if(i != \"*\"):\n",
    "            buzzerAdd = np.append(buzzerAdd, [frequency.note()[key+i], noteSpeed, 0., 0.01])\n",
    "        pass\n",
    "    \n",
    "    if(newLine > 1 or buzzNum > buzzerCount or i == '*'):\n",
    "        while(np.size(buzzerAdd) < buzzerCount * 104):\n",
    "            buzzerAdd = np.append(buzzerAdd, [0.,0.1,0.,0.01])\n",
    "            pass\n",
    "        buzzer = np.concatenate((buzzer, np.reshape(buzzerAdd, (buzzerCount, 52, 2))), axis = 1)\n",
    "        newLine = 0\n",
    "        buzzNum = 0\n",
    "        key = 0\n",
    "        buzzerAdd = np.array([])\n",
    "    pass\n",
    "\n",
    "for i in range(buzzerCount):\n",
    "    buzzFile = 'buzzer' + str(i) + '.npy'\n",
    "    np.save(buzzFile, buzzer[i])"
   ]
  },
  {
   "cell_type": "code",
   "execution_count": null,
   "metadata": {},
   "outputs": [],
   "source": []
  }
 ],
 "metadata": {
  "kernelspec": {
   "display_name": "Python 3",
   "language": "python",
   "name": "python3"
  },
  "language_info": {
   "codemirror_mode": {
    "name": "ipython",
    "version": 3
   },
   "file_extension": ".py",
   "mimetype": "text/x-python",
   "name": "python",
   "nbconvert_exporter": "python",
   "pygments_lexer": "ipython3",
   "version": "3.8.0"
  }
 },
 "nbformat": 4,
 "nbformat_minor": 2
}
