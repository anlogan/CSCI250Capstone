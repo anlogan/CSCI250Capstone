{
 "cells": [
  {
   "cell_type": "markdown",
   "metadata": {},
   "source": [
    "<img src=\"https://3a2vzv37nkuw3esf6a3u2t7s-wpengine.netdna-ssl.com/webcentral/wp-content/uploads/sites/267/2019/02/horizontaldarkbackground.jpg\" width=\"55%\" align=\"left\"> \n",
    "<br><br><br><br><br>\n",
    "<font size=3 color='#08088A'>\n",
    "<b>CSCI250 Python Computing: Building a Sensor System</b> <br><br>\n",
    "Capstone project proposal\n",
    "</font>\n",
    "<hr style=\"height:5px\" width=\"55%\" align=\"left\">"
   ]
  },
  {
   "cell_type": "markdown",
   "metadata": {},
   "source": [
    "# Title and description of the project\n",
    "\n",
    "__Team Potato Controller™__ would like to introduce a new way to play video games. We will make a controller with buttons, 2 analog sticks, and a speaker. Analog sticks will control movement and camera, buttons control inventory and interacting with the world, and the speaker will play the sounds of you interacting with your world"
   ]
  },
  {
   "cell_type": "markdown",
   "metadata": {},
   "source": [
    "# Names and roles of all team members\n",
    "\n",
    "__Anthony Logan:__ Main Coding, minor hardware\n",
    "\n",
    "__Frankie Austin:__ Coding, Main Hardware, Build\n",
    "\n",
    "__Matthew Barbattini:__ Coding, Main Organizer, Build\n",
    "\n",
    "__Jonathan Woolf:__ Coding, testing, build"
   ]
  },
  {
   "cell_type": "markdown",
   "metadata": {},
   "source": [
    "# How the project requirements will be met\n",
    "\n",
    "We have 3 team members. \n",
    "\n",
    "The 3 sensors we will use: Buttons, Analog stick, Speaker.\n",
    "\n",
    "__Collect:__ We will be collecting data from the buttons and controllers\n",
    "\n",
    "__Process:__ We will need to process the raw data we get\n",
    "\n",
    "__Display:__ The display will take part in minecraft when we are kickin butts and building forts\n",
    "\n",
    "__Interpret:__ Transfering the data we collect to be interpreted by minecraft will be non-trivial"
   ]
  },
  {
   "cell_type": "markdown",
   "metadata": {},
   "source": [
    "# Project timeline and milestones\n",
    "\n",
    "Updates occur on the 4, 11, and 18 of November\n",
    "\n",
    "Ideally we have the hardware part (mostly) done by the 11th, leaving us 2 weeks to do all the software."
   ]
  },
  {
   "cell_type": "markdown",
   "metadata": {},
   "source": [
    "# Hardware elements you intend to use\n",
    "\n",
    "Buttons, speaker, and 2 analog sticks (see below)\n",
    "\n",
    "<div class=\"alert alert-block alert-danger\">\n",
    "\n",
    "**If you need additional sensors, list them here with links to the SparkFun webpage and justifications.**\n",
    "\n",
    "https://www.sparkfun.com/products/9032     x2 Joysticks to control movement and camera in minecraft\n",
    "\n",
    "</div>"
   ]
  }
 ],
 "metadata": {
  "kernelspec": {
   "display_name": "Python 3",
   "language": "python",
   "name": "python3"
  },
  "language_info": {
   "codemirror_mode": {
    "name": "ipython",
    "version": 3
   },
   "file_extension": ".py",
   "mimetype": "text/x-python",
   "name": "python",
   "nbconvert_exporter": "python",
   "pygments_lexer": "ipython3",
   "version": "3.5.3"
  },
  "varInspector": {
   "cols": {
    "lenName": 16,
    "lenType": 16,
    "lenVar": 40
   },
   "kernels_config": {
    "python": {
     "delete_cmd_postfix": "",
     "delete_cmd_prefix": "del ",
     "library": "var_list.py",
     "varRefreshCmd": "print(var_dic_list())"
    },
    "r": {
     "delete_cmd_postfix": ") ",
     "delete_cmd_prefix": "rm(",
     "library": "var_list.r",
     "varRefreshCmd": "cat(var_dic_list()) "
    }
   },
   "types_to_exclude": [
    "module",
    "function",
    "builtin_function_or_method",
    "instance",
    "_Feature"
   ],
   "window_display": false
  }
 },
 "nbformat": 4,
 "nbformat_minor": 2
}
