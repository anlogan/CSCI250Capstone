{
 "cells": [
  {
   "cell_type": "code",
   "execution_count": 0,
   "metadata": {
    "colab": {},
    "colab_type": "code",
    "id": "gkeIadk8nK7H"
   },
   "outputs": [],
   "source": []
  },
  {
   "cell_type": "markdown",
   "metadata": {
    "colab_type": "text",
    "id": "g07wj_obtiip"
   },
   "source": [
    "https://nitratine.net/blog/post/simulate-keypresses-in-python/"
   ]
  },
  {
   "cell_type": "code",
   "execution_count": null,
   "metadata": {
    "ExecuteTime": {
     "start_time": "2019-11-13T18:43:12.564Z"
    }
   },
   "outputs": [
    {
     "name": "stdout",
     "output_type": "stream",
     "text": [
      "blue\n",
      "blue\n",
      "blue\n",
      "blue\n",
      "blue\n",
      "blue\n",
      "blue\n",
      "blue\n",
      "blue\n",
      "blue\n",
      "blue\n",
      "blue\n",
      "blue\n",
      "blue\n",
      "blue\n",
      "blue\n"
     ]
    }
   ],
   "source": [
    "import sys\n",
    "# !{sys.executable} -m pip install pynput\n",
    "import numpy as np\n",
    "import time\n",
    "from pynput.keyboard import Key, Controller\n",
    "import spidev \n",
    "\n",
    "import RPi.GPIO as GPIO\n",
    "GPIO.setmode(GPIO.BCM)\n",
    "\n",
    "bblue = 23\n",
    "byel = 24\n",
    "bgreen = 25\n",
    "bred = 26\n",
    "\n",
    "spi = spidev.SpiDev()\n",
    "# (0,0 or 1) depending on adc pin, 0 in this case\n",
    "spi.open(0, 0)\n",
    "\n",
    "GPIO.setup(bblue, GPIO.IN, pull_up_down = GPIO.PUD_DOWN)\n",
    "GPIO.setup(byel, GPIO.IN, pull_up_down = GPIO.PUD_DOWN)\n",
    "GPIO.setup(bgreen, GPIO.IN, pull_up_down = GPIO.PUD_DOWN)\n",
    "GPIO.setup(bred, GPIO.IN, pull_up_down = GPIO.PUD_DOWN)\n",
    "# while True:\n",
    "#     print(GPIO.input(bblue))\n",
    "#     print(GPIO.input(byel))\n",
    "#     time.sleep(.2)\n",
    "#     if (time.time() > to+5):\n",
    "#         break\n",
    "        \n",
    "keyboard = Controller()\n",
    "\n",
    "while True:\n",
    "    if GPIO.input(bblue):    \n",
    "        keyboard.press(Key.down)\n",
    "        time.sleep(.1)\n",
    "        keyboard.release(Key.down)    \n",
    "        print(\"blue\")\n",
    "    if GPIO.input(byel):    \n",
    "        keyboard.press(Key.right)\n",
    "        time.sleep(.1)\n",
    "        keyboard.release(Key.right)\n",
    "    if GPIO.input(bgreen):    \n",
    "        keyboard.press(Key.up)\n",
    "        time.sleep(.1)\n",
    "        keyboard.release(Key.up)\n",
    "    if GPIO.input(bred):    \n",
    "        keyboard.press(Key.left)\n",
    "        time.sleep(.1)\n",
    "        keyboard.release(Key.left)\n",
    "\n",
    "    \n",
    "# from pynput.keyboard import Key, Controller\n"
   ]
  },
  {
   "cell_type": "code",
   "execution_count": null,
   "metadata": {},
   "outputs": [],
   "source": [
    "import RPi.GPIO as GPIO\n",
    "import time\n",
    "import numpy as np\n",
    "import pigpio\n",
    "\n",
    "pi = pigpio.pi(port = 8887)\n",
    "\n",
    "buzPin = 19\n",
    "GPIO.setup(buzPin, GPIO.OUT) \n",
    "\n",
    "\n",
    "if bblue, bgreen == True:\n",
    "    pi.hardware_PWM(buzPin, 261.63, int(.5e6))\n",
    "    time.sleep(.1)\n",
    "    pi.hardware_PWM(buzPin, 0, int(.5e6))\n",
    "    \n",
    "if bred, byellow == True:\n",
    "    pi.hardware_PWM(buzPin, 349.23, int(.5e6))\n",
    "    time.sleep(.1)\n",
    "    pi.hardware_PWM(buzPin, 0, int(.5e6))"
   ]
  }
 ],
 "metadata": {
  "colab": {
   "collapsed_sections": [],
   "name": "Capstone Test",
   "provenance": []
  },
  "kernelspec": {
   "display_name": "Python 3",
   "language": "python",
   "name": "python3"
  },
  "language_info": {
   "codemirror_mode": {
    "name": "ipython",
    "version": 3
   },
   "file_extension": ".py",
   "mimetype": "text/x-python",
   "name": "python",
   "nbconvert_exporter": "python",
   "pygments_lexer": "ipython3",
   "version": "3.5.3"
  },
  "varInspector": {
   "cols": {
    "lenName": 16,
    "lenType": 16,
    "lenVar": 40
   },
   "kernels_config": {
    "python": {
     "delete_cmd_postfix": "",
     "delete_cmd_prefix": "del ",
     "library": "var_list.py",
     "varRefreshCmd": "print(var_dic_list())"
    },
    "r": {
     "delete_cmd_postfix": ") ",
     "delete_cmd_prefix": "rm(",
     "library": "var_list.r",
     "varRefreshCmd": "cat(var_dic_list()) "
    }
   },
   "types_to_exclude": [
    "module",
    "function",
    "builtin_function_or_method",
    "instance",
    "_Feature"
   ],
   "window_display": false
  }
 },
 "nbformat": 4,
 "nbformat_minor": 1
}
