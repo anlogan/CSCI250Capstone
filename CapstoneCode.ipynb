{
 "cells": [
  {
   "cell_type": "code",
   "execution_count": 35,
   "metadata": {
    "ExecuteTime": {
     "end_time": "2019-11-18T19:13:01.864211Z",
     "start_time": "2019-11-18T19:13:01.829085Z"
    }
   },
   "outputs": [],
   "source": [
    "import adcUtil  as adc\n",
    "import math\n",
    "def getStick():   \n",
    "    xpos = adc.readADC(channel=0)\n",
    "    ypos = adc.readADC(channel=1)\n",
    "    return xpos, ypos\n",
    "\n",
    "def getStickKey():\n",
    "    xpos, ypos = getStick()\n",
    "    xpos = (xpos -.5)*2\n",
    "    if xpos == 0:\n",
    "        xpos ==.001\n",
    "    ypos = (ypos -.5)*2\n",
    "    r = math.sqrt(xpos**2 + ypos**2)\n",
    "    theta = math.atan(ypos/xpos)\n",
    "    print(\"X,Y: ({0:.2f},{0:.2f})\".format(xpos,ypos))\n",
    "    return r, theta\n"
   ]
  },
  {
   "cell_type": "code",
   "execution_count": null,
   "metadata": {
    "ExecuteTime": {
     "start_time": "2019-11-15T18:34:25.160Z"
    }
   },
   "outputs": [],
   "source": [
    "import sys\n",
    "# !{sys.executable} -m pip install pynput\n",
    "import numpy as np\n",
    "import time\n",
    "from pynput.keyboard import Key, Controller\n",
    "import spidev \n",
    "\n",
    "import RPi.GPIO as GPIO\n",
    "GPIO.setmode(GPIO.BCM)\n",
    "\n",
    "bblue = 23\n",
    "byel = 24\n",
    "bgreen = 25\n",
    "bred = 26\n",
    "\n",
    "spi = spidev.SpiDev()\n",
    "# (0,0 or 1) depending on adc pin, 0 in this case\n",
    "spi.open(0, 0)\n",
    "\n",
    "GPIO.setup(bblue, GPIO.IN, pull_up_down = GPIO.PUD_DOWN)\n",
    "GPIO.setup(byel, GPIO.IN, pull_up_down = GPIO.PUD_DOWN)\n",
    "GPIO.setup(bgreen, GPIO.IN, pull_up_down = GPIO.PUD_DOWN)\n",
    "GPIO.setup(bred, GPIO.IN, pull_up_down = GPIO.PUD_DOWN)\n",
    "\n",
    "keyboard = Controller()\n",
    "\n",
    "while True:\n",
    "    if GPIO.input(bblue):    \n",
    "        keyboard.press(Key.down)\n",
    "        time.sleep(.1)\n",
    "        keyboard.release(Key.down)    \n",
    "        print(\"blue\")\n",
    "    if GPIO.input(byel):    \n",
    "        keyboard.press(Key.right)\n",
    "        time.sleep(.1)\n",
    "        keyboard.release(Key.right)\n",
    "    if GPIO.input(bgreen):    \n",
    "        keyboard.press(Key.up)\n",
    "        time.sleep(.1)\n",
    "        keyboard.release(Key.up)\n",
    "    if GPIO.input(bred):    \n",
    "        keyboard.press(Key.left)\n",
    "        time.sleep(.1)\n",
    "        keyboard.release(Key.left)\n",
    "    xpos, ypos = getStick()\n",
    "    \n",
    "\n",
    "    \n",
    "# from pynput.keyboard import Key, Controller\n"
   ]
  },
  {
   "cell_type": "code",
   "execution_count": 43,
   "metadata": {
    "ExecuteTime": {
     "end_time": "2019-11-18T19:20:44.257806Z",
     "start_time": "2019-11-18T19:20:34.146477Z"
    }
   },
   "outputs": [
    {
     "name": "stdout",
     "output_type": "stream",
     "text": [
      "Points: (0.53,0.53)\n",
      "Points: (0.52,0.52)\n",
      "Points: (0.51,0.51)\n",
      "Points: (0.52,0.52)\n",
      "Points: (0.53,0.53)\n",
      "Points: (0.53,0.53)\n",
      "Points: (0.53,0.53)\n",
      "Points: (0.52,0.52)\n",
      "Points: (0.54,0.54)\n",
      "Points: (0.53,0.53)\n",
      "Points: (0.53,0.53)\n",
      "Points: (0.51,0.51)\n",
      "Points: (0.53,0.53)\n",
      "Points: (0.53,0.53)\n",
      "Points: (0.52,0.52)\n",
      "Points: (0.53,0.53)\n",
      "Points: (0.53,0.53)\n",
      "Points: (0.53,0.53)\n",
      "Points: (0.53,0.53)\n",
      "Points: (0.52,0.52)\n",
      "Points: (0.43,0.43)\n",
      "Points: (0.43,0.43)\n",
      "Points: (0.52,0.52)\n",
      "Points: (0.53,0.53)\n",
      "Points: (0.53,0.53)\n",
      "Polar: (0.17,0.17)\n"
     ]
    }
   ],
   "source": [
    "import time\n",
    "import adcUtil  as adc\n",
    "import math\n",
    "\n",
    "XMAX =1.0806451612903225\n",
    "YMAX =1.0838709677419354\n",
    "YMIN = 0\n",
    "XMIN = 0\n",
    "\n",
    "to = time.time();\n",
    "\n",
    "while time.time()<(to+10) or False:\n",
    "    #r, theta = getStickKey()\n",
    "    x_pos, y_pos = getStick()\n",
    "    print(\"Points: ({0:.2f},{0:.2f})\".format(x_pos, y_pos))\n",
    "    time.sleep(.4)\n",
    "    \n",
    "#r, theta = getStickKey()\n",
    "print(\"Polar: ({0:.2f},{0:.2f})\".format(r, theta))"
   ]
  }
 ],
 "metadata": {
  "colab": {
   "collapsed_sections": [],
   "name": "Capstone Test",
   "provenance": []
  },
  "kernelspec": {
   "display_name": "Python 3",
   "language": "python",
   "name": "python3"
  },
  "varInspector": {
   "cols": {
    "lenName": 16,
    "lenType": 16,
    "lenVar": 40
   },
   "kernels_config": {
    "python": {
     "delete_cmd_postfix": "",
     "delete_cmd_prefix": "del ",
     "library": "var_list.py",
     "varRefreshCmd": "print(var_dic_list())"
    },
    "r": {
     "delete_cmd_postfix": ") ",
     "delete_cmd_prefix": "rm(",
     "library": "var_list.r",
     "varRefreshCmd": "cat(var_dic_list()) "
    }
   },
   "types_to_exclude": [
    "module",
    "function",
    "builtin_function_or_method",
    "instance",
    "_Feature"
   ],
   "window_display": false
  }
 },
 "nbformat": 4,
 "nbformat_minor": 1
}
