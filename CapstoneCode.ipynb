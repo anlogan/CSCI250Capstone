{
 "cells": [
  {
   "cell_type": "code",
   "execution_count": 10,
   "metadata": {
    "ExecuteTime": {
     "end_time": "2019-11-25T18:48:02.235491Z",
     "start_time": "2019-11-25T18:48:02.161267Z"
    }
   },
   "outputs": [],
   "source": [
    "import adcUtil  as adc\n",
    "import math\n",
    "def getStickL():\n",
    "    xpos = adc.baseADC0(channel=1)\n",
    "    ypos = adc.baseADC0(channel=0)\n",
    "    #print(\"Points1: ({0:.1f},{1:.1f})\".format(xpos, ypos))\n",
    "\n",
    "    return (xpos-511.5), (ypos-511.5)\n",
    "\n",
    "def getStickR():\n",
    "    xpos = adc.baseADC1(channel=1)\n",
    "    ypos = adc.baseADC1(channel=0)\n",
    "    #print(\"Points1: ({0:.1f},{1:.1f})\".format(xpos, ypos))\n",
    "\n",
    "    return (xpos-511.5), (ypos-511.5)\n",
    "\n",
    "def getStickKey(r,theta):\n",
    "    # if in middle\n",
    "    if (r < 20): return;\n",
    "    if (theta > 30 and theta < 60):\n",
    "        1\n",
    "        # W & D\n",
    "    elif (theta > 60 and theta < 120):\n",
    "        1\n",
    "        # W\n",
    "    elif (theta > 120 and theta < 150):\n",
    "        1\n",
    "        # W A\n",
    "    elif (theta > 150 and theta < 210):\n",
    "        1\n",
    "        # A\n",
    "    elif (theta > 210 and theta < 240):\n",
    "        1\n",
    "        # A S\n",
    "    elif (theta > 240 and theta < 300):\n",
    "        1\n",
    "        # S\n",
    "    elif (theta > 300 and theta < 330):\n",
    "        1\n",
    "        # D S\n",
    "    elif (theta > 330 and theta < 30):\n",
    "        1\n",
    "        # D\n",
    "    \n",
    "    return r, theta\n",
    "\n",
    "def angle():\n",
    "    dx, dy= getStick()\n",
    "    # -1.65 to rotate 90ish deg\n",
    "    rads = math.atan2(dy, -dx) - 1.65\n",
    "    rads %= 2 * math.pi\n",
    "    return math.degrees(rads)\n",
    "\n",
    "def radi():\n",
    "    xpos, ypos = getStick()\n",
    "    r = math.sqrt(xpos ** 2 + ypos ** 2)\n",
    "    return r"
   ]
  },
  {
   "cell_type": "code",
   "execution_count": null,
   "metadata": {
    "ExecuteTime": {
     "end_time": "2019-11-20T18:25:29.204835Z",
     "start_time": "2019-11-20T18:25:27.086747Z"
    }
   },
   "outputs": [],
   "source": [
    "import sys\n",
    "# !{sys.executable} -m pip install pynput\n",
    "import numpy as np\n",
    "import time\n",
    "from pynput.keyboard import Key, Controller\n",
    "import spidev \n",
    "\n",
    "import RPi.GPIO as GPIO\n",
    "GPIO.setmode(GPIO.BCM)\n",
    "\n",
    "bblue = 23\n",
    "byel = 24\n",
    "bgreen = 25\n",
    "bred = 26\n",
    "\n",
    "spi = spidev.SpiDev()\n",
    "# (0,0 or 1) depending on adc pin, 0 in this case\n",
    "spi.open(0, 0)\n",
    "\n",
    "GPIO.setup(bblue, GPIO.IN, pull_up_down = GPIO.PUD_DOWN)\n",
    "GPIO.setup(byel, GPIO.IN, pull_up_down = GPIO.PUD_DOWN)\n",
    "GPIO.setup(bgreen, GPIO.IN, pull_up_down = GPIO.PUD_DOWN)\n",
    "GPIO.setup(bred, GPIO.IN, pull_up_down = GPIO.PUD_DOWN)\n",
    "\n",
    "keyboard = Controller()\n",
    "\n",
    "while True:\n",
    "    if GPIO.input(bblue):    \n",
    "        keyboard.press(Key.down)\n",
    "        time.sleep(.1)\n",
    "        keyboard.release(Key.down)    \n",
    "        print(\"blue\")\n",
    "    if GPIO.input(byel):    \n",
    "        keyboard.press(Key.right)\n",
    "        time.sleep(.1)\n",
    "        keyboard.release(Key.right)\n",
    "    if GPIO.input(bgreen):    \n",
    "        keyboard.press(Key.up)\n",
    "        time.sleep(.1)\n",
    "        keyboard.release(Key.up)\n",
    "    if GPIO.input(bred):    \n",
    "        keyboard.press(Key.left)\n",
    "        time.sleep(.1)\n",
    "        keyboard.release(Key.left)\n",
    "    xpos, ypos = getStick()\n",
    "    \n",
    "\n",
    "    \n",
    "# from pynput.keyboard import Key, Controller\n"
   ]
  },
  {
   "cell_type": "code",
   "execution_count": 9,
   "metadata": {
    "ExecuteTime": {
     "end_time": "2019-11-25T18:46:54.882187Z",
     "start_time": "2019-11-25T18:46:49.179717Z"
    }
   },
   "outputs": [
    {
     "name": "stdout",
     "output_type": "stream",
     "text": [
      "Polar: (23,187)\n",
      "Polar: (23,187)\n",
      "Polar: (23,186)\n",
      "Polar: (23,187)\n",
      "Polar: (23,187)\n",
      "Polar: (23,187)\n",
      "Polar: (23,187)\n"
     ]
    },
    {
     "ename": "KeyboardInterrupt",
     "evalue": "",
     "output_type": "error",
     "traceback": [
      "\u001b[0;31m---------------------------------------------------------------------------\u001b[0m",
      "\u001b[0;31mKeyboardInterrupt\u001b[0m                         Traceback (most recent call last)",
      "\u001b[0;32m<ipython-input-9-41b640d479db>\u001b[0m in \u001b[0;36m<module>\u001b[0;34m\u001b[0m\n\u001b[1;32m     19\u001b[0m \u001b[0;34m\u001b[0m\u001b[0m\n\u001b[1;32m     20\u001b[0m \u001b[0;34m\u001b[0m\u001b[0m\n\u001b[0;32m---> 21\u001b[0;31m     \u001b[0mtime\u001b[0m\u001b[0;34m.\u001b[0m\u001b[0msleep\u001b[0m\u001b[0;34m(\u001b[0m\u001b[0;36m.8\u001b[0m\u001b[0;34m)\u001b[0m\u001b[0;34m\u001b[0m\u001b[0m\n\u001b[0m\u001b[1;32m     22\u001b[0m \u001b[0;34m\u001b[0m\u001b[0m\n\u001b[1;32m     23\u001b[0m \u001b[0;31m#r, theta = getStickKey()\u001b[0m\u001b[0;34m\u001b[0m\u001b[0;34m\u001b[0m\u001b[0m\n",
      "\u001b[0;31mKeyboardInterrupt\u001b[0m: "
     ]
    }
   ],
   "source": [
    "import time\n",
    "import adcUtil  as adc\n",
    "import math\n",
    "\n",
    "XMAX =1.0806451612903225\n",
    "YMAX =1.0838709677419354\n",
    "YMIN = 0\n",
    "XMIN = 0\n",
    "\n",
    "to = time.time();\n",
    "\n",
    "while time.time()<(to+20) or False:\n",
    "    #r, theta = getStickKey()\n",
    "    x_pos, y_pos = getStick()\n",
    "    print(\"Polar: ({0:.0f},{1:.0f})\".format(radi(),angle()))\n",
    "    #print(\"Points: ({0:.0f},{1:.0f})\".format(x_pos,y_pos))\n",
    "\n",
    "    #print(x_pos, y_pos)\n",
    "\n",
    "\n",
    "    time.sleep(.8)\n",
    "    \n",
    "#r, theta = getStickKey()\n"
   ]
  },
  {
   "cell_type": "code",
   "execution_count": null,
   "metadata": {},
   "outputs": [],
   "source": []
  }
 ],
 "metadata": {
  "colab": {
   "collapsed_sections": [],
   "name": "Capstone Test",
   "provenance": []
  },
  "kernelspec": {
   "display_name": "Python 3",
   "language": "python",
   "name": "python3"
  },
  "language_info": {
   "codemirror_mode": {
    "name": "ipython",
    "version": 3
   },
   "file_extension": ".py",
   "mimetype": "text/x-python",
   "name": "python",
   "nbconvert_exporter": "python",
   "pygments_lexer": "ipython3",
   "version": "3.5.3"
  },
  "varInspector": {
   "cols": {
    "lenName": 16,
    "lenType": 16,
    "lenVar": 40
   },
   "kernels_config": {
    "python": {
     "delete_cmd_postfix": "",
     "delete_cmd_prefix": "del ",
     "library": "var_list.py",
     "varRefreshCmd": "print(var_dic_list())"
    },
    "r": {
     "delete_cmd_postfix": ") ",
     "delete_cmd_prefix": "rm(",
     "library": "var_list.r",
     "varRefreshCmd": "cat(var_dic_list()) "
    }
   },
   "types_to_exclude": [
    "module",
    "function",
    "builtin_function_or_method",
    "instance",
    "_Feature"
   ],
   "window_display": false
  }
 },
 "nbformat": 4,
 "nbformat_minor": 1
}
