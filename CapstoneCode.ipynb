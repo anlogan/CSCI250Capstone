{
 "cells": [
  {
   "cell_type": "code",
   "execution_count": 35,
   "metadata": {
    "ExecuteTime": {
     "end_time": "2019-11-20T18:35:00.576998Z",
     "start_time": "2019-11-20T18:35:00.507266Z"
    }
   },
   "outputs": [],
   "source": [
    "import adcUtil  as adc\n",
    "import math\n",
    "def getStick():\n",
    "    xpos = adc.baseADC(channel=1)\n",
    "    ypos = adc.baseADC(channel=0)\n",
    "    #print(\"Points1: ({0:.1f},{1:.1f})\".format(xpos, ypos))\n",
    "\n",
    "    return xpos, ypos\n",
    "\n",
    "def getStickKey():\n",
    "    xpos, ypos = getStick()\n",
    "    xpos = (xpos -.5)*2\n",
    "    if xpos == 0:\n",
    "        xpos ==.001\n",
    "    ypos = (ypos -.5)*2\n",
    "    r = math.sqrt(xpos**2 + ypos**2)\n",
    "    theta = math.atan(ypos/xpos)\n",
    "    print(\"X,Y: ({0:.2f},{0:.2f})\".format(xpos,ypos))\n",
    "    return r, theta\n"
   ]
  },
  {
   "cell_type": "code",
   "execution_count": 17,
   "metadata": {
    "ExecuteTime": {
     "end_time": "2019-11-20T18:25:29.204835Z",
     "start_time": "2019-11-20T18:25:27.086747Z"
    }
   },
   "outputs": [
    {
     "ename": "DisplayConnectionError",
     "evalue": "Can't connect to display \"localhost:10.0\": b'Invalid MIT-MAGIC-COOKIE-1 key'",
     "output_type": "error",
     "traceback": [
      "\u001b[0;31m---------------------------------------------------------------------------\u001b[0m",
      "\u001b[0;31mDisplayConnectionError\u001b[0m                    Traceback (most recent call last)",
      "\u001b[0;32m<ipython-input-17-93ff6f34c6db>\u001b[0m in \u001b[0;36m<module>\u001b[0;34m\u001b[0m\n\u001b[1;32m      3\u001b[0m \u001b[0;32mimport\u001b[0m \u001b[0mnumpy\u001b[0m \u001b[0;32mas\u001b[0m \u001b[0mnp\u001b[0m\u001b[0;34m\u001b[0m\u001b[0m\n\u001b[1;32m      4\u001b[0m \u001b[0;32mimport\u001b[0m \u001b[0mtime\u001b[0m\u001b[0;34m\u001b[0m\u001b[0m\n\u001b[0;32m----> 5\u001b[0;31m \u001b[0;32mfrom\u001b[0m \u001b[0mpynput\u001b[0m\u001b[0;34m.\u001b[0m\u001b[0mkeyboard\u001b[0m \u001b[0;32mimport\u001b[0m \u001b[0mKey\u001b[0m\u001b[0;34m,\u001b[0m \u001b[0mController\u001b[0m\u001b[0;34m\u001b[0m\u001b[0m\n\u001b[0m\u001b[1;32m      6\u001b[0m \u001b[0;32mimport\u001b[0m \u001b[0mspidev\u001b[0m\u001b[0;34m\u001b[0m\u001b[0m\n\u001b[1;32m      7\u001b[0m \u001b[0;34m\u001b[0m\u001b[0m\n",
      "\u001b[0;32m/usr/local/lib/python3.5/dist-packages/pynput/__init__.py\u001b[0m in \u001b[0;36m<module>\u001b[0;34m\u001b[0m\n\u001b[1;32m     38\u001b[0m \u001b[0;34m\u001b[0m\u001b[0m\n\u001b[1;32m     39\u001b[0m \u001b[0;34m\u001b[0m\u001b[0m\n\u001b[0;32m---> 40\u001b[0;31m \u001b[0;32mfrom\u001b[0m \u001b[0;34m.\u001b[0m \u001b[0;32mimport\u001b[0m \u001b[0mkeyboard\u001b[0m\u001b[0;34m\u001b[0m\u001b[0m\n\u001b[0m\u001b[1;32m     41\u001b[0m \u001b[0;32mfrom\u001b[0m \u001b[0;34m.\u001b[0m \u001b[0;32mimport\u001b[0m \u001b[0mmouse\u001b[0m\u001b[0;34m\u001b[0m\u001b[0m\n",
      "\u001b[0;32m/usr/local/lib/python3.5/dist-packages/pynput/keyboard/__init__.py\u001b[0m in \u001b[0;36m<module>\u001b[0;34m\u001b[0m\n\u001b[1;32m     47\u001b[0m     \u001b[0;32mif\u001b[0m \u001b[0;32mnot\u001b[0m \u001b[0mKeyCode\u001b[0m \u001b[0;32mand\u001b[0m \u001b[0;32mnot\u001b[0m \u001b[0mKey\u001b[0m \u001b[0;32mand\u001b[0m \u001b[0;32mnot\u001b[0m \u001b[0mController\u001b[0m \u001b[0;32mand\u001b[0m \u001b[0;32mnot\u001b[0m \u001b[0mListener\u001b[0m\u001b[0;34m:\u001b[0m\u001b[0;34m\u001b[0m\u001b[0m\n\u001b[1;32m     48\u001b[0m         \u001b[0;32mtry\u001b[0m\u001b[0;34m:\u001b[0m\u001b[0;34m\u001b[0m\u001b[0m\n\u001b[0;32m---> 49\u001b[0;31m             \u001b[0;32mfrom\u001b[0m \u001b[0;34m.\u001b[0m\u001b[0m_xorg\u001b[0m \u001b[0;32mimport\u001b[0m \u001b[0mKeyCode\u001b[0m\u001b[0;34m,\u001b[0m \u001b[0mKey\u001b[0m\u001b[0;34m,\u001b[0m \u001b[0mController\u001b[0m\u001b[0;34m,\u001b[0m \u001b[0mListener\u001b[0m\u001b[0;34m\u001b[0m\u001b[0m\n\u001b[0m\u001b[1;32m     50\u001b[0m         \u001b[0;32mexcept\u001b[0m \u001b[0mImportError\u001b[0m\u001b[0;34m:\u001b[0m\u001b[0;34m\u001b[0m\u001b[0m\n\u001b[1;32m     51\u001b[0m             \u001b[0;31m# For now, since we only support Xlib anyway, we re-raise these\u001b[0m\u001b[0;34m\u001b[0m\u001b[0;34m\u001b[0m\u001b[0m\n",
      "\u001b[0;32m/usr/local/lib/python3.5/dist-packages/pynput/keyboard/_xorg.py\u001b[0m in \u001b[0;36m<module>\u001b[0;34m\u001b[0m\n\u001b[1;32m     37\u001b[0m \u001b[0;34m\u001b[0m\u001b[0m\n\u001b[1;32m     38\u001b[0m \u001b[0;32mfrom\u001b[0m \u001b[0mpynput\u001b[0m\u001b[0;34m.\u001b[0m\u001b[0m_util\u001b[0m \u001b[0;32mimport\u001b[0m \u001b[0mNotifierMixin\u001b[0m\u001b[0;34m\u001b[0m\u001b[0m\n\u001b[0;32m---> 39\u001b[0;31m from pynput._util.xorg import (\n\u001b[0m\u001b[1;32m     40\u001b[0m     \u001b[0malt_mask\u001b[0m\u001b[0;34m,\u001b[0m\u001b[0;34m\u001b[0m\u001b[0m\n\u001b[1;32m     41\u001b[0m     \u001b[0malt_gr_mask\u001b[0m\u001b[0;34m,\u001b[0m\u001b[0;34m\u001b[0m\u001b[0m\n",
      "\u001b[0;32m/usr/local/lib/python3.5/dist-packages/pynput/_util/xorg.py\u001b[0m in \u001b[0;36m<module>\u001b[0;34m\u001b[0m\n\u001b[1;32m     38\u001b[0m     \u001b[0mdisplay\u001b[0m \u001b[0;34m=\u001b[0m \u001b[0mXlib\u001b[0m\u001b[0;34m.\u001b[0m\u001b[0mdisplay\u001b[0m\u001b[0;34m.\u001b[0m\u001b[0mDisplay\u001b[0m\u001b[0;34m(\u001b[0m\u001b[0;34m)\u001b[0m\u001b[0;34m\u001b[0m\u001b[0m\n\u001b[1;32m     39\u001b[0m     \u001b[0mdisplay\u001b[0m\u001b[0;34m.\u001b[0m\u001b[0mclose\u001b[0m\u001b[0;34m(\u001b[0m\u001b[0;34m)\u001b[0m\u001b[0;34m\u001b[0m\u001b[0m\n\u001b[0;32m---> 40\u001b[0;31m \u001b[0m_check\u001b[0m\u001b[0;34m(\u001b[0m\u001b[0;34m)\u001b[0m\u001b[0;34m\u001b[0m\u001b[0m\n\u001b[0m\u001b[1;32m     41\u001b[0m \u001b[0;32mdel\u001b[0m \u001b[0m_check\u001b[0m\u001b[0;34m\u001b[0m\u001b[0m\n\u001b[1;32m     42\u001b[0m \u001b[0;34m\u001b[0m\u001b[0m\n",
      "\u001b[0;32m/usr/local/lib/python3.5/dist-packages/pynput/_util/xorg.py\u001b[0m in \u001b[0;36m_check\u001b[0;34m()\u001b[0m\n\u001b[1;32m     36\u001b[0m \u001b[0;31m# Create a display to verify that we have an X connection\u001b[0m\u001b[0;34m\u001b[0m\u001b[0;34m\u001b[0m\u001b[0m\n\u001b[1;32m     37\u001b[0m \u001b[0;32mdef\u001b[0m \u001b[0m_check\u001b[0m\u001b[0;34m(\u001b[0m\u001b[0;34m)\u001b[0m\u001b[0;34m:\u001b[0m\u001b[0;34m\u001b[0m\u001b[0m\n\u001b[0;32m---> 38\u001b[0;31m     \u001b[0mdisplay\u001b[0m \u001b[0;34m=\u001b[0m \u001b[0mXlib\u001b[0m\u001b[0;34m.\u001b[0m\u001b[0mdisplay\u001b[0m\u001b[0;34m.\u001b[0m\u001b[0mDisplay\u001b[0m\u001b[0;34m(\u001b[0m\u001b[0;34m)\u001b[0m\u001b[0;34m\u001b[0m\u001b[0m\n\u001b[0m\u001b[1;32m     39\u001b[0m     \u001b[0mdisplay\u001b[0m\u001b[0;34m.\u001b[0m\u001b[0mclose\u001b[0m\u001b[0;34m(\u001b[0m\u001b[0;34m)\u001b[0m\u001b[0;34m\u001b[0m\u001b[0m\n\u001b[1;32m     40\u001b[0m \u001b[0m_check\u001b[0m\u001b[0;34m(\u001b[0m\u001b[0;34m)\u001b[0m\u001b[0;34m\u001b[0m\u001b[0m\n",
      "\u001b[0;32m/usr/local/lib/python3.5/dist-packages/Xlib/display.py\u001b[0m in \u001b[0;36m__init__\u001b[0;34m(self, display)\u001b[0m\n\u001b[1;32m     87\u001b[0m \u001b[0;32mclass\u001b[0m \u001b[0mDisplay\u001b[0m\u001b[0;34m(\u001b[0m\u001b[0mobject\u001b[0m\u001b[0;34m)\u001b[0m\u001b[0;34m:\u001b[0m\u001b[0;34m\u001b[0m\u001b[0m\n\u001b[1;32m     88\u001b[0m     \u001b[0;32mdef\u001b[0m \u001b[0m__init__\u001b[0m\u001b[0;34m(\u001b[0m\u001b[0mself\u001b[0m\u001b[0;34m,\u001b[0m \u001b[0mdisplay\u001b[0m \u001b[0;34m=\u001b[0m \u001b[0;32mNone\u001b[0m\u001b[0;34m)\u001b[0m\u001b[0;34m:\u001b[0m\u001b[0;34m\u001b[0m\u001b[0m\n\u001b[0;32m---> 89\u001b[0;31m         \u001b[0mself\u001b[0m\u001b[0;34m.\u001b[0m\u001b[0mdisplay\u001b[0m \u001b[0;34m=\u001b[0m \u001b[0m_BaseDisplay\u001b[0m\u001b[0;34m(\u001b[0m\u001b[0mdisplay\u001b[0m\u001b[0;34m)\u001b[0m\u001b[0;34m\u001b[0m\u001b[0m\n\u001b[0m\u001b[1;32m     90\u001b[0m \u001b[0;34m\u001b[0m\u001b[0m\n\u001b[1;32m     91\u001b[0m         \u001b[0;31m# Create the keymap cache\u001b[0m\u001b[0;34m\u001b[0m\u001b[0;34m\u001b[0m\u001b[0m\n",
      "\u001b[0;32m/usr/local/lib/python3.5/dist-packages/Xlib/display.py\u001b[0m in \u001b[0;36m__init__\u001b[0;34m(self, *args, **keys)\u001b[0m\n\u001b[1;32m     69\u001b[0m     \u001b[0;32mdef\u001b[0m \u001b[0m__init__\u001b[0m\u001b[0;34m(\u001b[0m\u001b[0mself\u001b[0m\u001b[0;34m,\u001b[0m \u001b[0;34m*\u001b[0m\u001b[0margs\u001b[0m\u001b[0;34m,\u001b[0m \u001b[0;34m**\u001b[0m\u001b[0mkeys\u001b[0m\u001b[0;34m)\u001b[0m\u001b[0;34m:\u001b[0m\u001b[0;34m\u001b[0m\u001b[0m\n\u001b[1;32m     70\u001b[0m         \u001b[0mself\u001b[0m\u001b[0;34m.\u001b[0m\u001b[0mresource_classes\u001b[0m \u001b[0;34m=\u001b[0m \u001b[0m_resource_baseclasses\u001b[0m\u001b[0;34m.\u001b[0m\u001b[0mcopy\u001b[0m\u001b[0;34m(\u001b[0m\u001b[0;34m)\u001b[0m\u001b[0;34m\u001b[0m\u001b[0m\n\u001b[0;32m---> 71\u001b[0;31m         \u001b[0mprotocol_display\u001b[0m\u001b[0;34m.\u001b[0m\u001b[0mDisplay\u001b[0m\u001b[0;34m.\u001b[0m\u001b[0m__init__\u001b[0m\u001b[0;34m(\u001b[0m\u001b[0mself\u001b[0m\u001b[0;34m,\u001b[0m \u001b[0;34m*\u001b[0m\u001b[0margs\u001b[0m\u001b[0;34m,\u001b[0m \u001b[0;34m**\u001b[0m\u001b[0mkeys\u001b[0m\u001b[0;34m)\u001b[0m\u001b[0;34m\u001b[0m\u001b[0m\n\u001b[0m\u001b[1;32m     72\u001b[0m         \u001b[0mself\u001b[0m\u001b[0;34m.\u001b[0m\u001b[0m_atom_cache\u001b[0m \u001b[0;34m=\u001b[0m \u001b[0;34m{\u001b[0m\u001b[0;34m}\u001b[0m\u001b[0;34m\u001b[0m\u001b[0m\n\u001b[1;32m     73\u001b[0m \u001b[0;34m\u001b[0m\u001b[0m\n",
      "\u001b[0;32m/usr/local/lib/python3.5/dist-packages/Xlib/protocol/display.py\u001b[0m in \u001b[0;36m__init__\u001b[0;34m(self, display)\u001b[0m\n\u001b[1;32m    164\u001b[0m         \u001b[0;31m# Did connection fail?\u001b[0m\u001b[0;34m\u001b[0m\u001b[0;34m\u001b[0m\u001b[0m\n\u001b[1;32m    165\u001b[0m         \u001b[0;32mif\u001b[0m \u001b[0mr\u001b[0m\u001b[0;34m.\u001b[0m\u001b[0mstatus\u001b[0m \u001b[0;34m!=\u001b[0m \u001b[0;36m1\u001b[0m\u001b[0;34m:\u001b[0m\u001b[0;34m\u001b[0m\u001b[0m\n\u001b[0;32m--> 166\u001b[0;31m             \u001b[0;32mraise\u001b[0m \u001b[0merror\u001b[0m\u001b[0;34m.\u001b[0m\u001b[0mDisplayConnectionError\u001b[0m\u001b[0;34m(\u001b[0m\u001b[0mself\u001b[0m\u001b[0;34m.\u001b[0m\u001b[0mdisplay_name\u001b[0m\u001b[0;34m,\u001b[0m \u001b[0mr\u001b[0m\u001b[0;34m.\u001b[0m\u001b[0mreason\u001b[0m\u001b[0;34m)\u001b[0m\u001b[0;34m\u001b[0m\u001b[0m\n\u001b[0m\u001b[1;32m    167\u001b[0m \u001b[0;34m\u001b[0m\u001b[0m\n\u001b[1;32m    168\u001b[0m         \u001b[0;31m# Set up remaining info\u001b[0m\u001b[0;34m\u001b[0m\u001b[0;34m\u001b[0m\u001b[0m\n",
      "\u001b[0;31mDisplayConnectionError\u001b[0m: Can't connect to display \"localhost:10.0\": b'Invalid MIT-MAGIC-COOKIE-1 key'"
     ]
    }
   ],
   "source": [
    "import sys\n",
    "# !{sys.executable} -m pip install pynput\n",
    "import numpy as np\n",
    "import time\n",
    "from pynput.keyboard import Key, Controller\n",
    "import spidev \n",
    "\n",
    "import RPi.GPIO as GPIO\n",
    "GPIO.setmode(GPIO.BCM)\n",
    "\n",
    "bblue = 23\n",
    "byel = 24\n",
    "bgreen = 25\n",
    "bred = 26\n",
    "\n",
    "spi = spidev.SpiDev()\n",
    "# (0,0 or 1) depending on adc pin, 0 in this case\n",
    "spi.open(0, 0)\n",
    "\n",
    "GPIO.setup(bblue, GPIO.IN, pull_up_down = GPIO.PUD_DOWN)\n",
    "GPIO.setup(byel, GPIO.IN, pull_up_down = GPIO.PUD_DOWN)\n",
    "GPIO.setup(bgreen, GPIO.IN, pull_up_down = GPIO.PUD_DOWN)\n",
    "GPIO.setup(bred, GPIO.IN, pull_up_down = GPIO.PUD_DOWN)\n",
    "\n",
    "keyboard = Controller()\n",
    "\n",
    "while True:\n",
    "    if GPIO.input(bblue):    \n",
    "        keyboard.press(Key.down)\n",
    "        time.sleep(.1)\n",
    "        keyboard.release(Key.down)    \n",
    "        print(\"blue\")\n",
    "    if GPIO.input(byel):    \n",
    "        keyboard.press(Key.right)\n",
    "        time.sleep(.1)\n",
    "        keyboard.release(Key.right)\n",
    "    if GPIO.input(bgreen):    \n",
    "        keyboard.press(Key.up)\n",
    "        time.sleep(.1)\n",
    "        keyboard.release(Key.up)\n",
    "    if GPIO.input(bred):    \n",
    "        keyboard.press(Key.left)\n",
    "        time.sleep(.1)\n",
    "        keyboard.release(Key.left)\n",
    "    xpos, ypos = getStick()\n",
    "    \n",
    "\n",
    "    \n",
    "# from pynput.keyboard import Key, Controller\n"
   ]
  },
  {
   "cell_type": "code",
   "execution_count": 42,
   "metadata": {
    "ExecuteTime": {
     "end_time": "2019-11-20T18:44:01.370634Z",
     "start_time": "2019-11-20T18:43:41.168043Z"
    }
   },
   "outputs": [
    {
     "name": "stdout",
     "output_type": "stream",
     "text": [
      "Points1: (507.0,505.0)\n",
      "Points1: (507.0,506.0)\n",
      "Points1: (507.0,506.0)\n",
      "Points1: (507.0,505.0)\n",
      "Points1: (508.0,505.0)\n",
      "Points1: (507.0,506.0)\n",
      "Points1: (507.0,505.0)\n",
      "Points1: (507.0,505.0)\n",
      "Points1: (507.0,505.0)\n",
      "Points1: (507.0,505.0)\n",
      "Points1: (507.0,505.0)\n",
      "Points1: (507.0,506.0)\n",
      "Points1: (507.0,506.0)\n",
      "Points1: (507.0,505.0)\n",
      "Points1: (507.0,505.0)\n",
      "Points1: (508.0,505.0)\n",
      "Points1: (507.0,505.0)\n",
      "Points1: (507.0,505.0)\n",
      "Points1: (507.0,505.0)\n",
      "Points1: (507.0,505.0)\n",
      "Points1: (507.0,505.0)\n",
      "Points1: (507.0,505.0)\n",
      "Points1: (508.0,505.0)\n",
      "Points1: (507.0,506.0)\n",
      "Points1: (507.0,505.0)\n",
      "Points1: (508.0,505.0)\n",
      "Points1: (507.0,505.0)\n",
      "Points1: (507.0,505.0)\n",
      "Points1: (507.0,506.0)\n",
      "Points1: (507.0,505.0)\n",
      "Points1: (507.0,505.0)\n",
      "Points1: (507.0,505.0)\n",
      "Points1: (507.0,505.0)\n",
      "Points1: (507.0,506.0)\n",
      "Points1: (507.0,505.0)\n",
      "Points1: (507.0,505.0)\n",
      "Points1: (507.0,505.0)\n",
      "Points1: (508.0,505.0)\n",
      "Points1: (507.0,505.0)\n",
      "Points1: (507.0,505.0)\n",
      "Points1: (507.0,505.0)\n",
      "Points1: (507.0,505.0)\n",
      "Points1: (508.0,505.0)\n",
      "Points1: (507.0,506.0)\n",
      "Points1: (507.0,505.0)\n",
      "Points1: (507.0,506.0)\n",
      "Points1: (507.0,506.0)\n",
      "Points1: (507.0,505.0)\n",
      "Points1: (507.0,505.0)\n",
      "Points1: (507.0,505.0)\n"
     ]
    },
    {
     "ename": "NameError",
     "evalue": "name 'r' is not defined",
     "output_type": "error",
     "traceback": [
      "\u001b[0;31m---------------------------------------------------------------------------\u001b[0m",
      "\u001b[0;31mNameError\u001b[0m                                 Traceback (most recent call last)",
      "\u001b[0;32m<ipython-input-42-1c7b35988ade>\u001b[0m in \u001b[0;36m<module>\u001b[0;34m\u001b[0m\n\u001b[1;32m     21\u001b[0m \u001b[0;34m\u001b[0m\u001b[0m\n\u001b[1;32m     22\u001b[0m \u001b[0;31m#r, theta = getStickKey()\u001b[0m\u001b[0;34m\u001b[0m\u001b[0;34m\u001b[0m\u001b[0m\n\u001b[0;32m---> 23\u001b[0;31m \u001b[0mprint\u001b[0m\u001b[0;34m(\u001b[0m\u001b[0;34m\"Polar: ({0:.2f},{0:.2f})\"\u001b[0m\u001b[0;34m.\u001b[0m\u001b[0mformat\u001b[0m\u001b[0;34m(\u001b[0m\u001b[0mr\u001b[0m\u001b[0;34m,\u001b[0m \u001b[0mtheta\u001b[0m\u001b[0;34m)\u001b[0m\u001b[0;34m)\u001b[0m\u001b[0;34m\u001b[0m\u001b[0m\n\u001b[0m",
      "\u001b[0;31mNameError\u001b[0m: name 'r' is not defined"
     ]
    }
   ],
   "source": [
    "import time\n",
    "import adcUtil  as adc\n",
    "import math\n",
    "\n",
    "XMAX =1.0806451612903225\n",
    "YMAX =1.0838709677419354\n",
    "YMIN = 0\n",
    "XMIN = 0\n",
    "\n",
    "to = time.time();\n",
    "\n",
    "while time.time()<(to+20) or False:\n",
    "    #r, theta = getStickKey()\n",
    "    x_pos, y_pos = getStick()\n",
    "    print(\"Points1: ({0:.1f},{1:.1f})\".format(x_pos, y_pos))\n",
    "\n",
    "    #print(x_pos, y_pos)\n",
    "\n",
    "\n",
    "    time.sleep(.4)\n",
    "    \n",
    "#r, theta = getStickKey()\n",
    "print(\"Polar: ({0:.2f},{0:.2f})\".format(r, theta))"
   ]
  },
  {
   "cell_type": "code",
   "execution_count": null,
   "metadata": {},
   "outputs": [],
   "source": []
  }
 ],
 "metadata": {
  "colab": {
   "collapsed_sections": [],
   "name": "Capstone Test",
   "provenance": []
  },
  "kernelspec": {
   "display_name": "Python 3",
   "language": "python",
   "name": "python3"
  },
  "language_info": {
   "codemirror_mode": {
    "name": "ipython",
    "version": 3
   },
   "file_extension": ".py",
   "mimetype": "text/x-python",
   "name": "python",
   "nbconvert_exporter": "python",
   "pygments_lexer": "ipython3",
   "version": "3.5.3"
  },
  "varInspector": {
   "cols": {
    "lenName": 16,
    "lenType": 16,
    "lenVar": 40
   },
   "kernels_config": {
    "python": {
     "delete_cmd_postfix": "",
     "delete_cmd_prefix": "del ",
     "library": "var_list.py",
     "varRefreshCmd": "print(var_dic_list())"
    },
    "r": {
     "delete_cmd_postfix": ") ",
     "delete_cmd_prefix": "rm(",
     "library": "var_list.r",
     "varRefreshCmd": "cat(var_dic_list()) "
    }
   },
   "types_to_exclude": [
    "module",
    "function",
    "builtin_function_or_method",
    "instance",
    "_Feature"
   ],
   "window_display": false
  }
 },
 "nbformat": 4,
 "nbformat_minor": 1
}
