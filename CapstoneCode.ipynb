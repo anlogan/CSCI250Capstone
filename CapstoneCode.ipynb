{
 "cells": [
  {
   "cell_type": "code",
   "execution_count": 6,
   "metadata": {
    "ExecuteTime": {
     "end_time": "2019-11-25T20:37:24.938674Z",
     "start_time": "2019-11-25T20:37:24.820157Z"
    }
   },
   "outputs": [],
   "source": [
    "import adcUtil  as adc\n",
    "import math\n",
    "def getStickL():\n",
    "    xpos = adc.baseADC0(channel=1)\n",
    "    ypos = adc.baseADC0(channel=0)\n",
    "    #print(\"Points1: ({0:.1f},{1:.1f})\".format(xpos, ypos))\n",
    "\n",
    "    return (xpos-511.5), (ypos-511.5)\n",
    "\n",
    "def getStickR():\n",
    "    xpos = adc.baseADC1(channel=1)\n",
    "    ypos = adc.baseADC1(channel=0)\n",
    "    #print(\"Points1: ({0:.1f},{1:.1f})\".format(xpos, ypos))\n",
    "\n",
    "    return (xpos-511.5), (ypos-511.5)\n",
    "\n",
    "def getStickKey(r,theta):\n",
    "    # if in middle\n",
    "    if (r < 100): \n",
    "        releaseAll();\n",
    "        return;\n",
    "    if (theta > 30 and theta < 60):\n",
    "        releaseAll();\n",
    "        keyboard.press('w')\n",
    "        keyboard.press('d')   \n",
    "    elif (theta > 60 and theta < 120):\n",
    "        releaseAll();        \n",
    "        keyboard.press('w')   \n",
    "    elif (theta > 120 and theta < 150):\n",
    "        releaseAll();\n",
    "        keyboard.press('w')\n",
    "        keyboard.press('a')   \n",
    "    elif (theta > 150 and theta < 210):\n",
    "        releaseAll();        \n",
    "        keyboard.press('a')   \n",
    "    elif (theta > 210 and theta < 240):\n",
    "        releaseAll();\n",
    "        keyboard.press('a')\n",
    "        keyboard.press('s')   \n",
    "    elif (theta > 240 and theta < 300):\n",
    "        releaseAll();        \n",
    "        keyboard.press('s')   \n",
    "    elif (theta > 300 and theta < 330):\n",
    "        1\n",
    "        releaseAll();\n",
    "        keyboard.press('s')\n",
    "        keyboard.press('d')   \n",
    "    elif (theta > 330 or (theta) < 30):\n",
    "        releaseAll();        \n",
    "        keyboard.press('d')   \n",
    "    return;    \n",
    "\n",
    "def releaseAll():\n",
    "    keyboard.release('w')\n",
    "    keyboard.release('a')\n",
    "    keyboard.release('s')\n",
    "    keyboard.release('d')\n",
    "    #if \"w\" in keys:        \n",
    "    #    keyboard.release('w')\n",
    "\n",
    "    \n",
    "    \n",
    "def angle(dx, dy):    \n",
    "    # -1.65 to rotate 90ish deg\n",
    "    rads = math.atan2(dy, dx)\n",
    "    rads %= 2 * math.pi\n",
    "    return math.degrees(rads)\n",
    "\n",
    "def radi(dx, dy):\n",
    "    r = math.sqrt(dx ** 2 + dy ** 2)\n",
    "    return r"
   ]
  },
  {
   "cell_type": "code",
   "execution_count": 7,
   "metadata": {
    "ExecuteTime": {
     "end_time": "2019-11-25T20:40:56.872656Z",
     "start_time": "2019-11-25T20:37:37.054285Z"
    }
   },
   "outputs": [
    {
     "ename": "KeyboardInterrupt",
     "evalue": "",
     "output_type": "error",
     "traceback": [
      "\u001b[0;31m------------------------------------------------------------------------\u001b[0m",
      "\u001b[0;31mKeyboardInterrupt\u001b[0m                      Traceback (most recent call last)",
      "\u001b[0;32m<ipython-input-7-6442a104dc10>\u001b[0m in \u001b[0;36m<module>\u001b[0;34m\u001b[0m\n\u001b[1;32m     49\u001b[0m     \u001b[0mthetaR\u001b[0m \u001b[0;34m=\u001b[0m \u001b[0mangle\u001b[0m\u001b[0;34m(\u001b[0m\u001b[0mx_posR\u001b[0m\u001b[0;34m,\u001b[0m \u001b[0my_posR\u001b[0m\u001b[0;34m)\u001b[0m\u001b[0;34m\u001b[0m\u001b[0m\n\u001b[1;32m     50\u001b[0m     \u001b[0mgetStickKey\u001b[0m\u001b[0;34m(\u001b[0m\u001b[0mrR\u001b[0m\u001b[0;34m,\u001b[0m \u001b[0mthetaR\u001b[0m\u001b[0;34m)\u001b[0m\u001b[0;34m\u001b[0m\u001b[0m\n\u001b[0;32m---> 51\u001b[0;31m     \u001b[0mtime\u001b[0m\u001b[0;34m.\u001b[0m\u001b[0msleep\u001b[0m\u001b[0;34m(\u001b[0m\u001b[0;36m.1\u001b[0m\u001b[0;34m)\u001b[0m\u001b[0;34m\u001b[0m\u001b[0m\n\u001b[0m\u001b[1;32m     52\u001b[0m \u001b[0;34m\u001b[0m\u001b[0m\n\u001b[1;32m     53\u001b[0m \u001b[0;34m\u001b[0m\u001b[0m\n",
      "\u001b[0;31mKeyboardInterrupt\u001b[0m: "
     ]
    }
   ],
   "source": [
    "import sys\n",
    "# !{sys.executable} -m pip install pynput\n",
    "import numpy as np\n",
    "import time\n",
    "from pynput.keyboard import Key, Controller\n",
    "import spidev \n",
    "\n",
    "import RPi.GPIO as GPIO\n",
    "GPIO.setmode(GPIO.BCM)\n",
    "\n",
    "bright = 19\n",
    "bup = 20\n",
    "bleft = 21\n",
    "bdown = 22\n",
    "\n",
    "spi = spidev.SpiDev()\n",
    "# (0,0 or 1) depending on adc pin, 0 in this case\n",
    "spi.open(0, 0)\n",
    "\n",
    "GPIO.setup(bright, GPIO.IN, pull_up_down = GPIO.PUD_DOWN)\n",
    "GPIO.setup(bup, GPIO.IN, pull_up_down = GPIO.PUD_DOWN)\n",
    "GPIO.setup(bleft, GPIO.IN, pull_up_down = GPIO.PUD_DOWN)\n",
    "GPIO.setup(bdown, GPIO.IN, pull_up_down = GPIO.PUD_DOWN)\n",
    "\n",
    "keyboard = Controller()\n",
    "\n",
    "# The button layout on the controller\n",
    "# ^ > v <\n",
    "while True:    \n",
    "    if GPIO.input(bup):    \n",
    "        keyboard.press(Key.up)\n",
    "        time.sleep(.1)\n",
    "        keyboard.release(Key.up)\n",
    "    if GPIO.input(bright):    \n",
    "        keyboard.press(Key.right)\n",
    "        time.sleep(.1)\n",
    "        keyboard.release(Key.right)\n",
    "    if GPIO.input(bdown):    \n",
    "        keyboard.press(Key.down)\n",
    "        time.sleep(.1)\n",
    "        keyboard.release(Key.down)\n",
    "    if GPIO.input(bleft):    \n",
    "        keyboard.press(Key.left)\n",
    "        time.sleep(.1)       \n",
    "        keyboard.release(Key.left)\n",
    "    # x_posL, y_posL = getStickL()\n",
    "    x_posR, y_posR = getStickR()\n",
    "    rR = radi(x_posR, y_posR)\n",
    "    thetaR = angle(x_posR, y_posR)\n",
    "    getStickKey(rR, thetaR)\n",
    "    time.sleep(.1)\n",
    "    \n",
    "    \n",
    "\n",
    "    \n",
    "\n"
   ]
  },
  {
   "cell_type": "code",
   "execution_count": 11,
   "metadata": {
    "ExecuteTime": {
     "end_time": "2019-11-25T20:15:22.576723Z",
     "start_time": "2019-11-25T20:15:02.450078Z"
    }
   },
   "outputs": [
    {
     "name": "stdout",
     "output_type": "stream",
     "text": [
      "Polar Right: (9,220)\n",
      "Polar Right: (8,215)\n",
      "Polar Right: (8,215)\n",
      "Polar Right: (544,20)\n",
      "Polar Right: (538,18)\n",
      "Polar Right: (538,18)\n",
      "Polar Right: (512,91)\n",
      "Polar Right: (512,91)\n",
      "Polar Right: (512,91)\n",
      "Polar Right: (510,181)\n",
      "Polar Right: (510,181)\n",
      "Polar Right: (510,268)\n",
      "Polar Right: (510,269)\n",
      "Polar Right: (723,45)\n",
      "Polar Right: (641,37)\n",
      "Polar Right: (9,216)\n",
      "Polar Right: (9,216)\n",
      "Polar Right: (9,216)\n",
      "Polar Right: (8,215)\n",
      "Polar Right: (9,216)\n",
      "Polar Right: (8,215)\n",
      "Polar Right: (8,215)\n",
      "Polar Right: (9,211)\n",
      "Polar Right: (8,215)\n",
      "Polar Right: (8,215)\n"
     ]
    }
   ],
   "source": [
    "import time\n",
    "import adcUtil  as adc\n",
    "import math\n",
    "\n",
    "XMAX =1.0806451612903225\n",
    "YMAX =1.0838709677419354\n",
    "YMIN = 0\n",
    "XMIN = 0\n",
    "\n",
    "to = time.time();\n",
    "\n",
    "while time.time()<(to+20) or False:\n",
    "    #r, theta = getStickKey()\n",
    "    # x_posL, y_posL = getStickL()\n",
    "    x_posR, y_posR = getStickR()\n",
    "    #print(\"Polar Left: ({0:.0f},{1:.0f})\".format(radi(x_posL, y_posL),angle(x_posL, y_posL)))\n",
    "    print(\"Polar Right: ({0:.0f},{1:.0f})\".format(radi(x_posR, y_posR),angle(x_posR, y_posR)))\n",
    "\n",
    "    # print(\"Points Left: ({0:.0f},{1:.0f})\".format(x_posL,y_posL))\n",
    "    # print(\"Points Right: ({0:.0f},{1:.0f})\".format(x_posR,y_posR))\n",
    "\n",
    "    #print(x_pos, y_pos)\n",
    "\n",
    "\n",
    "    time.sleep(.8)\n",
    "    \n",
    "#r, theta = getStickKey()\n"
   ]
  }
 ],
 "metadata": {
  "colab": {
   "collapsed_sections": [],
   "name": "Capstone Test",
   "provenance": []
  },
  "kernelspec": {
   "display_name": "Python 3",
   "language": "python",
   "name": "python3"
  },
  "language_info": {
   "codemirror_mode": {
    "name": "ipython",
    "version": 3
   },
   "file_extension": ".py",
   "mimetype": "text/x-python",
   "name": "python",
   "nbconvert_exporter": "python",
   "pygments_lexer": "ipython3",
   "version": "3.5.3"
  },
  "varInspector": {
   "cols": {
    "lenName": 16,
    "lenType": 16,
    "lenVar": 40
   },
   "kernels_config": {
    "python": {
     "delete_cmd_postfix": "",
     "delete_cmd_prefix": "del ",
     "library": "var_list.py",
     "varRefreshCmd": "print(var_dic_list())"
    },
    "r": {
     "delete_cmd_postfix": ") ",
     "delete_cmd_prefix": "rm(",
     "library": "var_list.r",
     "varRefreshCmd": "cat(var_dic_list()) "
    }
   },
   "types_to_exclude": [
    "module",
    "function",
    "builtin_function_or_method",
    "instance",
    "_Feature"
   ],
   "window_display": false
  }
 },
 "nbformat": 4,
 "nbformat_minor": 1
}
