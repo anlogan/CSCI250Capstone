{
 "cells": [
  {
   "cell_type": "code",
   "execution_count": 11,
   "metadata": {
    "ExecuteTime": {
     "end_time": "2019-11-25T18:51:15.097180Z",
     "start_time": "2019-11-25T18:51:14.973627Z"
    }
   },
   "outputs": [],
   "source": [
    "import adcUtil  as adc\n",
    "import math\n",
    "def getStickL():\n",
    "    xpos = adc.baseADC0(channel=1)\n",
    "    ypos = adc.baseADC0(channel=0)\n",
    "    #print(\"Points1: ({0:.1f},{1:.1f})\".format(xpos, ypos))\n",
    "\n",
    "    return (xpos-511.5), (ypos-511.5)\n",
    "\n",
    "def getStickR():\n",
    "    xpos = adc.baseADC1(channel=1)\n",
    "    ypos = adc.baseADC1(channel=0)\n",
    "    #print(\"Points1: ({0:.1f},{1:.1f})\".format(xpos, ypos))\n",
    "\n",
    "    return (xpos-511.5), (ypos-511.5)\n",
    "\n",
    "def getStickKey(r,theta):\n",
    "    # if in middle\n",
    "    if (r < 20): return;\n",
    "    if (theta > 30 and theta < 60):\n",
    "        1\n",
    "        # W & D\n",
    "    elif (theta > 60 and theta < 120):\n",
    "        1\n",
    "        # W\n",
    "    elif (theta > 120 and theta < 150):\n",
    "        1\n",
    "        # W A\n",
    "    elif (theta > 150 and theta < 210):\n",
    "        1\n",
    "        # A\n",
    "    elif (theta > 210 and theta < 240):\n",
    "        1\n",
    "        # A S\n",
    "    elif (theta > 240 and theta < 300):\n",
    "        1\n",
    "        # S\n",
    "    elif (theta > 300 and theta < 330):\n",
    "        1\n",
    "        # D S\n",
    "    elif (theta > 330 and theta < 30):\n",
    "        1\n",
    "        # D\n",
    "    \n",
    "    return r, theta\n",
    "\n",
    "def angle(dx, dy):    \n",
    "    # -1.65 to rotate 90ish deg\n",
    "    rads = math.atan2(dy, -dx) - 1.65\n",
    "    rads %= 2 * math.pi\n",
    "    return math.degrees(rads)\n",
    "\n",
    "def radi(dx, dy):\n",
    "    r = math.sqrt(dx ** 2 + dy ** 2)\n",
    "    return r"
   ]
  },
  {
   "cell_type": "code",
   "execution_count": 20,
   "metadata": {
    "ExecuteTime": {
     "end_time": "2019-11-25T19:09:43.341620Z",
     "start_time": "2019-11-25T19:08:54.387149Z"
    }
   },
   "outputs": [
    {
     "name": "stdout",
     "output_type": "stream",
     "text": [
      "blue\n",
      "blue\n",
      "blue\n",
      "blue\n",
      "green\n",
      "green\n",
      "green\n",
      "green\n",
      "green\n",
      "3\n",
      "3\n",
      "3\n",
      "3\n",
      "2\n",
      "2\n",
      "2\n"
     ]
    },
    {
     "ename": "KeyboardInterrupt",
     "evalue": "",
     "output_type": "error",
     "traceback": [
      "\u001b[0;31m---------------------------------------------------------------------------\u001b[0m",
      "\u001b[0;31mKeyboardInterrupt\u001b[0m                         Traceback (most recent call last)",
      "\u001b[0;32m<ipython-input-20-88c5c10207a7>\u001b[0m in \u001b[0;36m<module>\u001b[0;34m\u001b[0m\n\u001b[1;32m     48\u001b[0m         \u001b[0mprint\u001b[0m\u001b[0;34m(\u001b[0m\u001b[0;34m\"green\"\u001b[0m\u001b[0;34m)\u001b[0m\u001b[0;34m\u001b[0m\u001b[0m\n\u001b[1;32m     49\u001b[0m \u001b[0;34m\u001b[0m\u001b[0m\n\u001b[0;32m---> 50\u001b[0;31m     \u001b[0mxpos\u001b[0m\u001b[0;34m,\u001b[0m \u001b[0mypos\u001b[0m \u001b[0;34m=\u001b[0m \u001b[0mgetStick\u001b[0m\u001b[0;34m(\u001b[0m\u001b[0;34m)\u001b[0m\u001b[0;34m\u001b[0m\u001b[0m\n\u001b[0m\u001b[1;32m     51\u001b[0m \u001b[0;34m\u001b[0m\u001b[0m\n\u001b[1;32m     52\u001b[0m \u001b[0;34m\u001b[0m\u001b[0m\n",
      "\u001b[0;32m<ipython-input-2-3434c81eb947>\u001b[0m in \u001b[0;36mgetStick\u001b[0;34m()\u001b[0m\n\u001b[1;32m      2\u001b[0m \u001b[0;32mimport\u001b[0m \u001b[0mmath\u001b[0m\u001b[0;34m\u001b[0m\u001b[0m\n\u001b[1;32m      3\u001b[0m \u001b[0;32mdef\u001b[0m \u001b[0mgetStick\u001b[0m\u001b[0;34m(\u001b[0m\u001b[0;34m)\u001b[0m\u001b[0;34m:\u001b[0m\u001b[0;34m\u001b[0m\u001b[0m\n\u001b[0;32m----> 4\u001b[0;31m     \u001b[0mxpos\u001b[0m \u001b[0;34m=\u001b[0m \u001b[0madc\u001b[0m\u001b[0;34m.\u001b[0m\u001b[0mbaseADC0\u001b[0m\u001b[0;34m(\u001b[0m\u001b[0mchannel\u001b[0m\u001b[0;34m=\u001b[0m\u001b[0;36m1\u001b[0m\u001b[0;34m)\u001b[0m\u001b[0;34m\u001b[0m\u001b[0m\n\u001b[0m\u001b[1;32m      5\u001b[0m     \u001b[0mypos\u001b[0m \u001b[0;34m=\u001b[0m \u001b[0madc\u001b[0m\u001b[0;34m.\u001b[0m\u001b[0mbaseADC0\u001b[0m\u001b[0;34m(\u001b[0m\u001b[0mchannel\u001b[0m\u001b[0;34m=\u001b[0m\u001b[0;36m0\u001b[0m\u001b[0;34m)\u001b[0m\u001b[0;34m\u001b[0m\u001b[0m\n\u001b[1;32m      6\u001b[0m     \u001b[0;31m#print(\"Points1: ({0:.1f},{1:.1f})\".format(xpos, ypos))\u001b[0m\u001b[0;34m\u001b[0m\u001b[0;34m\u001b[0m\u001b[0m\n",
      "\u001b[0;32m~/Documents/CSCI250/CSCI250Capstone/adcUtil.py\u001b[0m in \u001b[0;36mbaseADC0\u001b[0;34m(channel)\u001b[0m\n\u001b[1;32m     26\u001b[0m         \u001b[0;32melse\u001b[0m\u001b[0;34m:\u001b[0m           \u001b[0mconfig\u001b[0m \u001b[0;34m=\u001b[0m \u001b[0;34m[\u001b[0m\u001b[0;36m0b01111000\u001b[0m\u001b[0;34m,\u001b[0m \u001b[0;36m0\u001b[0m\u001b[0;34m]\u001b[0m \u001b[0;31m# Measure from channel 1\u001b[0m\u001b[0;34m\u001b[0m\u001b[0m\n\u001b[1;32m     27\u001b[0m \u001b[0;34m\u001b[0m\u001b[0m\n\u001b[0;32m---> 28\u001b[0;31m         \u001b[0mmyBytes\u001b[0m \u001b[0;34m=\u001b[0m \u001b[0mspi\u001b[0m\u001b[0;34m.\u001b[0m\u001b[0mxfer2\u001b[0m\u001b[0;34m(\u001b[0m\u001b[0mconfig\u001b[0m\u001b[0;34m)\u001b[0m              \u001b[0;31m# Send and get array of 2 bytes from ADC\u001b[0m\u001b[0;34m\u001b[0m\u001b[0m\n\u001b[0m\u001b[1;32m     29\u001b[0m         \u001b[0mmyData\u001b[0m \u001b[0;34m=\u001b[0m \u001b[0;34m(\u001b[0m\u001b[0mmyBytes\u001b[0m\u001b[0;34m[\u001b[0m\u001b[0;36m0\u001b[0m\u001b[0;34m]\u001b[0m \u001b[0;34m<<\u001b[0m \u001b[0;36m8\u001b[0m\u001b[0;34m)\u001b[0m \u001b[0;34m|\u001b[0m \u001b[0mmyBytes\u001b[0m\u001b[0;34m[\u001b[0m\u001b[0;36m1\u001b[0m\u001b[0;34m]\u001b[0m  \u001b[0;31m# Convert returned bytes to integer value\u001b[0m\u001b[0;34m\u001b[0m\u001b[0m\n\u001b[1;32m     30\u001b[0m \u001b[0;34m\u001b[0m\u001b[0m\n",
      "\u001b[0;31mKeyboardInterrupt\u001b[0m: "
     ]
    }
   ],
   "source": [
    "import sys\n",
    "# !{sys.executable} -m pip install pynput\n",
    "import numpy as np\n",
    "import time\n",
    "from pynput.keyboard import Key, Controller\n",
    "import spidev \n",
    "\n",
    "import RPi.GPIO as GPIO\n",
    "GPIO.setmode(GPIO.BCM)\n",
    "\n",
    "bblue = 19\n",
    "byel = 20\n",
    "bgreen = 21\n",
    "bred = 22\n",
    "\n",
    "spi = spidev.SpiDev()\n",
    "# (0,0 or 1) depending on adc pin, 0 in this case\n",
    "spi.open(0, 0)\n",
    "\n",
    "GPIO.setup(bblue, GPIO.IN, pull_up_down = GPIO.PUD_DOWN)\n",
    "GPIO.setup(byel, GPIO.IN, pull_up_down = GPIO.PUD_DOWN)\n",
    "GPIO.setup(bgreen, GPIO.IN, pull_up_down = GPIO.PUD_DOWN)\n",
    "GPIO.setup(bred, GPIO.IN, pull_up_down = GPIO.PUD_DOWN)\n",
    "\n",
    "keyboard = Controller()\n",
    "\n",
    "# The button layout on the controller\n",
    "# ^ > v <\n",
    "while True:\n",
    "    if GPIO.input(bblue):    \n",
    "        keyboard.press(Key.down)\n",
    "        time.sleep(.1)\n",
    "        keyboard.release(Key.down)    \n",
    "        print(\"blue\")\n",
    "    if GPIO.input(byel):    \n",
    "        keyboard.press(Key.right)\n",
    "        time.sleep(.1)\n",
    "        keyboard.release(Key.right)\n",
    "        print(\"red :(\")\n",
    "\n",
    "    if GPIO.input(bgreen):    \n",
    "        keyboard.press(Key.up)\n",
    "        time.sleep(.1)       \n",
    "        keyboard.release(Key.up)\n",
    "        print(\"yellow\")\n",
    "    if GPIO.input(bred):    \n",
    "        keyboard.press(Key.left)\n",
    "        time.sleep(.1)\n",
    "        keyboard.release(Key.left)\n",
    "        print(\"green\")   \n",
    "    \n",
    "\n",
    "    \n",
    "\n"
   ]
  },
  {
   "cell_type": "code",
   "execution_count": 18,
   "metadata": {
    "ExecuteTime": {
     "end_time": "2019-11-25T18:56:21.439898Z",
     "start_time": "2019-11-25T18:56:01.298067Z"
    }
   },
   "outputs": [
    {
     "name": "stdout",
     "output_type": "stream",
     "text": [
      "Polar Right: (8,231)\n",
      "Polar Right: (8,231)\n",
      "Polar Right: (512,87)\n",
      "Polar Right: (512,87)\n",
      "Polar Right: (319,86)\n",
      "Polar Right: (22,256)\n",
      "Polar Right: (8,231)\n",
      "Polar Right: (512,355)\n",
      "Polar Right: (512,355)\n",
      "Polar Right: (355,177)\n",
      "Polar Right: (8,231)\n",
      "Polar Right: (509,265)\n",
      "Polar Right: (509,265)\n",
      "Polar Right: (8,231)\n",
      "Polar Right: (8,231)\n",
      "Polar Right: (509,176)\n",
      "Polar Right: (8,231)\n",
      "Polar Right: (8,231)\n",
      "Polar Right: (8,231)\n",
      "Polar Right: (723,40)\n",
      "Polar Right: (723,40)\n",
      "Polar Right: (7,237)\n",
      "Polar Right: (719,220)\n",
      "Polar Right: (8,231)\n",
      "Polar Right: (721,130)\n"
     ]
    }
   ],
   "source": [
    "import time\n",
    "import adcUtil  as adc\n",
    "import math\n",
    "\n",
    "XMAX =1.0806451612903225\n",
    "YMAX =1.0838709677419354\n",
    "YMIN = 0\n",
    "XMIN = 0\n",
    "\n",
    "to = time.time();\n",
    "\n",
    "while time.time()<(to+20) or False:\n",
    "    #r, theta = getStickKey()\n",
    "    x_posL, y_posL = getStickL()\n",
    "    x_posR, y_posR = getStickR()\n",
    "    # print(\"Polar Left: ({0:.0f},{1:.0f})\".format(radi(x_posL, y_posL),angle(x_posL, y_posL)))\n",
    "    print(\"Polar Right: ({0:.0f},{1:.0f})\".format(radi(x_posR, y_posR),angle(x_posR, y_posR)))\n",
    "\n",
    "    #print(\"Points: ({0:.0f},{1:.0f})\".format(x_pos,y_pos))\n",
    "\n",
    "    #print(x_pos, y_pos)\n",
    "\n",
    "\n",
    "    time.sleep(.8)\n",
    "    \n",
    "#r, theta = getStickKey()\n"
   ]
  }
 ],
 "metadata": {
  "colab": {
   "collapsed_sections": [],
   "name": "Capstone Test",
   "provenance": []
  },
  "kernelspec": {
   "display_name": "Python 3",
   "language": "python",
   "name": "python3"
  },
  "language_info": {
   "codemirror_mode": {
    "name": "ipython",
    "version": 3
   },
   "file_extension": ".py",
   "mimetype": "text/x-python",
   "name": "python",
   "nbconvert_exporter": "python",
   "pygments_lexer": "ipython3",
   "version": "3.5.3"
  },
  "varInspector": {
   "cols": {
    "lenName": 16,
    "lenType": 16,
    "lenVar": 40
   },
   "kernels_config": {
    "python": {
     "delete_cmd_postfix": "",
     "delete_cmd_prefix": "del ",
     "library": "var_list.py",
     "varRefreshCmd": "print(var_dic_list())"
    },
    "r": {
     "delete_cmd_postfix": ") ",
     "delete_cmd_prefix": "rm(",
     "library": "var_list.r",
     "varRefreshCmd": "cat(var_dic_list()) "
    }
   },
   "types_to_exclude": [
    "module",
    "function",
    "builtin_function_or_method",
    "instance",
    "_Feature"
   ],
   "window_display": false
  }
 },
 "nbformat": 4,
 "nbformat_minor": 1
}
