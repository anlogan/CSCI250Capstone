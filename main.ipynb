{
 "cells": [
  {
   "cell_type": "code",
   "execution_count": null,
   "metadata": {},
   "outputs": [],
   "source": [
    "import RPi.GPIO as GPIO\n",
    "import time, logging, threading\n",
    "import numpy as np\n",
    "\n",
    "# use GPIO numbering\n",
    "GPIO.setmode(GPIO.BCM)\n",
    "buzPin0 = 12\n",
    "GPIO.setup(buzPin0, GPIO.OUT)\n",
    "buzPin1 = 13\n",
    "GPIO.setup(buzPin1, GPIO.OUT)\n",
    "buzPin2 = 18\n",
    "GPIO.setup(buzPin2, GPIO.OUT)\n",
    "buzPin3 = 19\n",
    "GPIO.setup(buzPin3, GPIO.OUT)\n",
    "\n",
    "# import pigpio library\n",
    "import pigpio\n",
    "\n",
    "# create reference to pigpio daemon\n",
    "pi = pigpio.pi(port = 8887)"
   ]
  },
  {
   "cell_type": "code",
   "execution_count": 1,
   "metadata": {},
   "outputs": [],
   "source": [
    "def buzzer0():\n",
    "    songData = np.load(\"buzzer0.npy\")\n",
    "    for f in songData:\n",
    "        if(int(f[0]) > 0):\n",
    "            pi.hardware_PWM(buzPin0, int(f[0]), int(0.25e6))\n",
    "        time.sleep(f[1])\n",
    "        pi.hardware_PWM(buzPin0, 0, int(0.25e6))"
   ]
  },
  {
   "cell_type": "code",
   "execution_count": 2,
   "metadata": {},
   "outputs": [],
   "source": [
    "def buzzer0():\n",
    "    songData = np.load(\"buzzer0.npy\")\n",
    "    for f in songData:\n",
    "        if(int(f[0]) > 0):\n",
    "            pi.hardware_PWM(buzPin0, int(f[0]), int(0.25e6))\n",
    "        time.sleep(f[1])\n",
    "        pi.hardware_PWM(buzPin0, 0, int(0.25e6))\n",
    "def buzzer1():\n",
    "    songData = np.load(\"buzzer1.npy\")\n",
    "    for f in songData:\n",
    "        if(int(f[0]) > 0):\n",
    "            pi.hardware_PWM(buzPin1, int(f[0]), int(0.25e6))\n",
    "        time.sleep(f[1])\n",
    "        pi.hardware_PWM(buzPin1, 0, int(0.25e6))"
   ]
  },
  {
   "cell_type": "code",
   "execution_count": 3,
   "metadata": {},
   "outputs": [],
   "source": [
    "def buzzer2():\n",
    "    songData = np.load(\"buzzer2.npy\")\n",
    "    for f in songData:\n",
    "        if(int(f[0]) > 0):\n",
    "            pi.hardware_PWM(buzPin2, int(f[0]), int(0.25e6))\n",
    "        time.sleep(f[1])\n",
    "        pi.hardware_PWM(buzPin2, 0, int(0.25e6))\n",
    "def buzzer3():\n",
    "    songData = np.load(\"buzzer3.npy\")\n",
    "    for f in songData:\n",
    "        if(int(f[0]) > 0):\n",
    "            pi.hardware_PWM(buzPin3, int(f[0]), int(0.25e6))\n",
    "        time.sleep(f[1])\n",
    "        pi.hardware_PWM(buzPin3, 0, int(0.25e6))"
   ]
  },
  {
   "cell_type": "code",
   "execution_count": 4,
   "metadata": {},
   "outputs": [],
   "source": [
    "def buzzer3():\n",
    "    songData = np.load(\"buzzer3.npy\")\n",
    "    for f in songData:\n",
    "        if(int(f[0]) > 0):\n",
    "            pi.hardware_PWM(buzPin3, int(f[0]), int(0.25e6))\n",
    "        time.sleep(f[1])\n",
    "        pi.hardware_PWM(buzPin3, 0, int(0.25e6))"
   ]
  },
  {
   "cell_type": "code",
   "execution_count": null,
   "metadata": {},
   "outputs": [],
   "source": [
    "buzz0 = threading.Thread(target = buzzer0)\n",
    "buzz1 = threading.Thread(target = buzzer1)\n",
    "buzz2 = threading.Thread(target = buzzer2)\n",
    "buzz3 = threading.Thread(target = buzzer3)\n",
    "\n",
    "buzz0.start()\n",
    "buzz1.start()\n",
    "buzz2.start()\n",
    "buzz3.start()"
   ]
  },
  {
   "cell_type": "code",
   "execution_count": null,
   "metadata": {},
   "outputs": [],
   "source": [
    "GPIO.cleanup()"
   ]
  }
 ],
 "metadata": {
  "kernelspec": {
   "display_name": "Python 3",
   "language": "python",
   "name": "python3"
  },
  "language_info": {
   "codemirror_mode": {
    "name": "ipython",
    "version": 3
   },
   "file_extension": ".py",
   "mimetype": "text/x-python",
   "name": "python",
   "nbconvert_exporter": "python",
   "pygments_lexer": "ipython3",
   "version": "3.8.0"
  }
 },
 "nbformat": 4,
 "nbformat_minor": 2
}
