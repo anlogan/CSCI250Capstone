{
 "cells": [
  {
   "cell_type": "markdown",
   "metadata": {},
   "source": [
    "<img src=\"https://3a2vzv37nkuw3esf6a3u2t7s-wpengine.netdna-ssl.com/webcentral/wp-content/uploads/sites/267/2019/02/horizontaldarkbackground.jpg\" width=\"55%\" align=\"left\"> \n",
    "<br><br><br><br><br>\n",
    "<font size=3 color='#08088A'>\n",
    "<b>CSCI250 Python Computing: Building a Sensor System</b> <br><br>\n",
    "Capstone progress report\n",
    "</font>\n",
    "<hr style=\"height:5px\" width=\"55%\" align=\"left\">"
   ]
  },
  {
   "cell_type": "markdown",
   "metadata": {},
   "source": [
    "# Project title and members\n",
    "\n",
    "__Team Potato Controller™__ by Anthony Logan, Frankie Austin, Matthew Barbattini, John Woolf."
   ]
  },
  {
   "cell_type": "markdown",
   "metadata": {},
   "source": [
    "# What tasks have you completed thus far?\n",
    "\n",
    "We have added button mapping to the keyboard\n",
    "\n",
    "We have added sound to correspond to our button presses\n",
    "\n",
    "We have a 3D model of the controller"
   ]
  },
  {
   "cell_type": "markdown",
   "metadata": {},
   "source": [
    "# What tasks are yet to be completed? \n",
    ">__**PRINT THE CONTROLLER**__\n",
    "\n",
    ">We need to read the inputs from the analog sticks,\n",
    "\n",
    ">We also need to get the adapters for the analog sticks"
   ]
  },
  {
   "cell_type": "markdown",
   "metadata": {},
   "source": [
    "# What is your (revised) timeline to completion?\n",
    "\n",
    "The next update is on the 18th, and we would like to have a controller in the housing that can affect the state of (a) game. This would leave speaker work and debugging time for the final week, and maybe moving on to more complicated games."
   ]
  }
 ],
 "metadata": {
  "kernelspec": {
   "display_name": "Python 3",
   "language": "python",
   "name": "python3"
  },
  "language_info": {
   "codemirror_mode": {
    "name": "ipython",
    "version": 3
   },
   "file_extension": ".py",
   "mimetype": "text/x-python",
   "name": "python",
   "nbconvert_exporter": "python",
   "pygments_lexer": "ipython3",
   "version": "3.5.3"
  },
  "varInspector": {
   "cols": {
    "lenName": 16,
    "lenType": 16,
    "lenVar": 40
   },
   "kernels_config": {
    "python": {
     "delete_cmd_postfix": "",
     "delete_cmd_prefix": "del ",
     "library": "var_list.py",
     "varRefreshCmd": "print(var_dic_list())"
    },
    "r": {
     "delete_cmd_postfix": ") ",
     "delete_cmd_prefix": "rm(",
     "library": "var_list.r",
     "varRefreshCmd": "cat(var_dic_list()) "
    }
   },
   "types_to_exclude": [
    "module",
    "function",
    "builtin_function_or_method",
    "instance",
    "_Feature"
   ],
   "window_display": false
  }
 },
 "nbformat": 4,
 "nbformat_minor": 2
}
